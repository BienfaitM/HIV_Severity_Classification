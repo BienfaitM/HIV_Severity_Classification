{
 "cells": [
  {
   "cell_type": "raw",
   "metadata": {},
   "source": [
    "The inputs to the system are the past CD4+ count, the baseline CD4+ count, the past viral load log level, the baseline viral load log level, past average drug resistance,the baseline average drug resistance, the duration between the past treatment start date and the baseline treatment stop date, and the duration within which the viral load is to be predicted\n",
    "\n",
    "\n",
    "1...past CD4+ count--------------------> CD4+\n",
    "2...baseline CD4+ count----------------> CD4+\n",
    "3...past viral load log level----------> RNA\n",
    "4...baseline viral load log level------> RNA\n",
    "5...past average drug resistance-------> nucleotideSequence\n",
    "6...baseline average drug resistance---> nucleotideSequence\n",
    "7...duration (past treatment start date, the baseline treatment stop date)\n",
    "8...duration within which the viral load is to be predicted\n",
    "\n",
    "aaSequence=---- DNA Sequences\n",
    "Mutations: amino acid changes in a patient sequence relative to some reference \n",
    "\n",
    "\n",
    "the baseline average drug resistance, the duration between the past treatment start date and the baseline treatment stop date, and the duration within which the viral load .drug resistance Sequences must be entered using the FASTA format if multiple sequences are entered. Sequences can be pasted in the text box or uploaded using the File Upload option. The upper limit is currently 1000 sequences containing 3000 nucleotides per sequence\n",
    "\n",
    "Genotypic drug resistance test results are represented as nucleotide sequences or lists of amino acid mutations obtained prior to the treatment change.\n",
    " \n",
    "to predict an improvement in a patient's viral load, competitors will be provided with data on the nucleotide sequences of their  Reverse Transcriptase (RT) their Protease (PR) and their viral load and CD4 count at the beginning of therapy.\n",
    " Genotypic drug resistance test results are represented as nucleotide sequences or lists of amino acid mutations obtained prior to the treatment change. \n",
    "\n",
    "HIV drug resistance (HIVDR) is caused by one or more changes (mutation/s) in the genetic structure of HIV that affects the ability of a specific drug or combination of drugs to block replication of the virus.\n",
    "\n",
    "ARV drug–naive applies to people with no history of ARV drug exposure\n",
    "\n",
    "Nineteen antiretroviral drugs have been approved for the treatment of HIV-1 infection: one nucleotide and seven nucleoside reverse transcriptase inhibitors (NRTIs), seven protease inhibitors (PIs), three nonnucleoside RT inhibitors (NNRTIs), and one fusion inhibitor. In previously untreated individuals with drug-susceptible HIV-1 strains, combinations of three or more drugs from two drug classes can lead to prolonged virus suppression and immunologic reconstitution.\n",
    "\n",
    "Drug resistance testing is used to determine whether a patient with HIV has a mutated form of the virus that does not respond to antiretroviral therapy (ART).\n",
    "\n",
    "If an HIV-infected patient becomes resistant to a drug and continues to take the same medication, HIV is able to multiply faster because the drug cannot stop it from replicating. When the new, mutated form is favored, it is called selective pressure. If the resistant virus makes enough copies of itself, it may eventually become the dominant type of HIV in the body. Once this happens, the medication is ineffective, and the patient will be resistant to the specific medication.\n",
    "\n",
    "There are two main types of drug resistance tests: genotypic and phenotypic resistance tests.\n",
    "\n",
    "Genotypic resistance testing examines the genetic structure (genotype) of a patient's HIV. A blood sample is taken from the patient, and the HIV is analyzed for the presence of specific genetic mutations that are known to cause resistance to specific drugs. For instance, researchers have determined that lamivudine (Epivir®) and emtricitabine (Emtriva®) are not effective against forms of HIV that contain the mutation \"M184V\" in its reverse transcriptase gene. If a patient tests positive for this mutation, it is highly likely that he or she is resistant to both drugs, and different drugs should be prescribed.\n",
    "\n",
    "Phenotypic testing directly measures the sensitivity (phenotype) of a patient's HIV in response to specific antiretrovirals. Many experts believe that these tests are more accurate and comprehensive than genotypic tests. These tests can help a physician determine the amount or concentration of a drug that is needed to stop a specific strain of HIV from replicating in a patient.\n",
    "\n",
    "HIV-1, which causes almost all the cases of AIDS worldwide. But having HIV doesn't mean you have AIDS. Even without treatment, it takes time for HIV to progress to AIDS—usually 10 to 12 years. With treatment, many people with HIV are able to live long and active lives.\n",
    "\n",
    "The most common HIV tests use blood to detect HIV infection. The enzyme-linked immunosorbent assay (ELISA) tests a patient's blood sample for antibodies. Oral fluid (not saliva), collected from the cheeks and gums, may also be used to perform an ELISA. Oral fluid ELISA tests are considered as sensitive as a blood test\n",
    "\n",
    "A Western blot test is typically used to confirm a positive HIV diagnosis. During the test, a small sample of blood is taken and it is used to detect HIV antibodies, not the HIV virus itself. The Western blot test separates the blood proteins and detects the specific proteins (called HIV antibodies) that indicate an HIV infection.\n",
    "\n",
    "Polymerase chain reaction (PCR) tests are used to detect HIV's genetic material, called RNA. These tests can be used to screen the donated blood supply and to detect very early infections before antibodies have been developed. This test may be performed just days or weeks after exposure to HIV. Although these tests are the most accurate, they are not performed as often as the other HIV tests because they are expensive and also time- and labor-intensive.\n",
    "\n",
    "\n"
   ]
  },
  {
   "cell_type": "raw",
   "metadata": {},
   "source": [
    "CD4+ count, the baseline CD4+ count, the past viral load log level, the baseline viral load log level,\n",
    "past average drug resistance, the baseline average drug resistance, \n",
    "the duration between the past treatment start date and the baseline treatment stop date, and \n",
    "the duration within which the viral load is to be predicted"
   ]
  },
  {
   "cell_type": "raw",
   "metadata": {},
   "source": [
    "CD4+ count, the baseline CD4+ count, the past viral load log level, the baseline viral load log level, past average drug resistance, the baseline average drug resistance, the duration between the past treatment start date and the baseline treatment stop date, and the duration within which the viral load is to be predicted."
   ]
  },
  {
   "cell_type": "raw",
   "metadata": {},
   "source": [
    "Genotypic drug resistance test results are represented as nucleotide sequences or lists of amino acid mutations obtained prior to the treatment change"
   ]
  },
  {
   "cell_type": "raw",
   "metadata": {},
   "source": [
    "Schematic definition of a treatment-change episode (TCE). Brackets indicate 3 TCE requirements: (1) a baseline genotypic drug-resistance test result obtained within 24 weeks before the treatment change, (2) a baseline plasma human immunodeficiency virus type 1 (HIV-1) RNA level obtained within 8 weeks before the treatment change, and (3) 􏰂2 plasma HIV-1 RNA levels obtained between 4 and 36 weeks after the treatment change. Additional requirements were a CD4 cell count obtained within 24 weeks before the treatment change and 􏰂4 weeks of salvage therapy."
   ]
  },
  {
   "cell_type": "raw",
   "metadata": {},
   "source": [
    "Three-step method for calculating regimen-specific genotypic susceptibility scores (GSSs): (1) calculate drug-specific GSSs, applying a genotypic drug-resistance interpretation algorithm to the mutations present in the baseline genotype to estimate the activity of an antiretroviral (ARV) relative to its activity against a wild-type virus; (2) calculate the weighted drug-specific GSSs, multiplying drug-specific GSSs by a factor that accounts for differences in ARV activity between ARVs belonging to different ARV classes; and (3) calculate regimen-specific GSSs by adding the weighted drug-specific GSSs of the drugs used for salvage therapy."
   ]
  },
  {
   "cell_type": "raw",
   "metadata": {},
   "source": [
    "This contest focuses on using the nucleotide sequence of the Reverse Transcriptase (RT) and Protease (PR) to predict the patient's short-term progression. For the non-Biologist: the nucleotide sequence is the blueprint of the protein, which is the workhorse of the cell.  The RT enzyme is responsible for copying the HIV-1 genome within the cell. As the HIV-1 genome is translated it is in one long string of amino acids; the PR protein cuts this string into the numerous functional units - required by the HIV life-cycle. These are the proteins that are targeted by most HIV-1 drugs since they are mostly unique to the HIV-1 life-cycle. The Responder status indicates whether the patient improved after 16 weeks of therapy.  Improvement is defined as a 100-fold decrease in the HIV-1 viral load."
   ]
  },
  {
   "cell_type": "raw",
   "metadata": {},
   "source": [
    "he individuals in the dataset are all humans, are all being recently infected by HIV and they received the same treatment.\n",
    "\n",
    "Welcome to the problems faced in science... you can't really know whether the two samples come from the same population, e.g. if the viruses that infected them come all from the same strand, if the indivuals have similar genomes... there are a lot of informations that you won't never know."
   ]
  },
  {
   "cell_type": "raw",
   "metadata": {},
   "source": [
    "However, because HIVdb does not consider other relevant clinical data such as previous drug-resistance test results, ARV treatment history, plasma HIV-1 RNA levels, CD4 counts, and drug toxicity, it does not have the logical power to instruct clinicians on which ARVs should be used when constructing a treatment regimen\n",
    "HIV-1 drug resistance is rarely an all-or-none phenomenon. Clinicians treating infected patients usually need the answers to the following two questions: (i) Does the genotypic resistance test suggest that the patient will respond to a drug in a manner comparable to a patient with a wild-type isolate? (ii) Does the test suggest that the patient will obtain any antiviral benefit from the drug? To answer these questions it is necessary to grade the extent of inferred resistance relative to both wild type and to the most resistant isolates."
   ]
  },
  {
   "cell_type": "raw",
   "metadata": {},
   "source": [
    "The data was entered through the web interface, and was saved in the database. This data consists of fasta files, the nucleotide sequences or the treatment profile of the new patient. The nucleotide sequence and the fasta file was then used to get the drug specific resistance level from the system. The treatment profile (TCE) was used in the prediction of their viral load level"
   ]
  },
  {
   "cell_type": "raw",
   "metadata": {},
   "source": [
    "The duration under consideration for prediction has to be selected too. If none is selected, the default prediction period of 8 weeks is used."
   ]
  },
  {
   "cell_type": "raw",
   "metadata": {},
   "source": [
    "The XML file used needs to have at least one past viral load (RNA) level count and its log, the past CD4+ count, the baseline (current) RNA and CD4+ counts, the patient alias, the unit of measure and the regimens used in the management of the virus"
   ]
  },
  {
   "cell_type": "raw",
   "metadata": {},
   "source": [
    "Susceptible: Total score 0 to 9\n",
    "Potential low-level resistance: Total score 10 to 14\n",
    "Low-level resistance: Total score 15 to 29\n",
    "Intermediate resistance: Total score 30 to 59\n",
    "High-level resistance: Total score >= 60"
   ]
  },
  {
   "cell_type": "raw",
   "metadata": {},
   "source": [
    "Low CD4/CD8 ratio and CD4 nadir were associated with increased mortality risk after NCD, suggesting that prior immunosuppression or ongoing immune imbalance remain important for outcomes following serious NCD"
   ]
  },
  {
   "cell_type": "raw",
   "metadata": {},
   "source": [
    "CD4 nadir  CD4 nadir is a predictor of HIV neurocognitive impairment in the era of combination antiretroviral therapy"
   ]
  },
  {
   "cell_type": "raw",
   "metadata": {},
   "source": [
    "A web application was developed that allowed the clinician to add the treatment change episode for a particular patient. The clinician has to log in first, and add the treatment profile (TCE) to the system and save it. The TCE contains information on the past treatment, the present treatment, viral load levels for the past and present, the CD4+ counts for the past and the present, the nucleotide sequence(s) and the duration for which the prediction is expected to cover. The default duration is 8 weeks."
   ]
  },
  {
   "cell_type": "raw",
   "metadata": {},
   "source": [
    " Here the system queries for the drug resistance from the Stanford HIV database through the Sierra web system via an API call."
   ]
  }
 ],
 "metadata": {
  "kernelspec": {
   "display_name": "Python 3",
   "language": "python",
   "name": "python3"
  },
  "language_info": {
   "codemirror_mode": {
    "name": "ipython",
    "version": 3
   },
   "file_extension": ".py",
   "mimetype": "text/x-python",
   "name": "python",
   "nbconvert_exporter": "python",
   "pygments_lexer": "ipython3",
   "version": "3.8.3"
  }
 },
 "nbformat": 4,
 "nbformat_minor": 2
}
