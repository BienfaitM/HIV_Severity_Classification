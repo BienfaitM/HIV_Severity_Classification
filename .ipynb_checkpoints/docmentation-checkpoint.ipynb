{
 "cells": [
  {
   "cell_type": "raw",
   "metadata": {},
   "source": [
    "The inputs to the system are the past CD4+ count, the baseline CD4+ count, the past viral load log level, the baseline viral load log level, past average drug resistance,the baseline average drug resistance, the duration between the past treatment start date and the baseline treatment stop date, and the duration within which the viral load is to be predicted\n",
    "\n",
    "\n",
    "1...past CD4+ count--------------------> CD4+\n",
    "2...baseline CD4+ count----------------> CD4+\n",
    "3...past viral load log level----------> RNA\n",
    "4...baseline viral load log level------> RNA\n",
    "5...past average drug resistance-------> nucleotideSequence\n",
    "6...baseline average drug resistance---> nucleotideSequence\n",
    "7...duration (past treatment start date, the baseline treatment stop date)\n",
    "8...duration within which the viral load is to be predicted\n",
    "\n",
    "\n",
    "the baseline average drug resistance, the duration between the past treatment start date and the baseline treatment stop date, and the duration within which the viral load .drug resistance Sequences must be entered using the FASTA format if multiple sequences are entered. Sequences can be pasted in the text box or uploaded using the File Upload option. The upper limit is currently 1000 sequences containing 3000 nucleotides per sequence\n",
    "\n",
    "Genotypic drug resistance test results are represented as nucleotide sequences or lists of amino acid mutations obtained prior to the treatment change.\n",
    " \n",
    "to predict an improvement in a patient's viral load, competitors will be provided with data on the nucleotide sequences of their  Reverse Transcriptase (RT) their Protease (PR) and their viral load and CD4 count at the beginning of therapy.\n",
    " Genotypic drug resistance test results are represented as nucleotide sequences or lists of amino acid mutations obtained prior to the treatment change. \n",
    "\n",
    "HIV drug resistance (HIVDR) is caused by one or more changes (mutation/s) in the genetic structure of HIV that affects the ability of a specific drug or combination of drugs to block replication of the virus.\n",
    "\n",
    "ARV drug–naive applies to people with no history of ARV drug exposure\n",
    "\n",
    "Nineteen antiretroviral drugs have been approved for the treatment of HIV-1 infection: one nucleotide and seven nucleoside reverse transcriptase inhibitors (NRTIs), seven protease inhibitors (PIs), three nonnucleoside RT inhibitors (NNRTIs), and one fusion inhibitor. In previously untreated individuals with drug-susceptible HIV-1 strains, combinations of three or more drugs from two drug classes can lead to prolonged virus suppression and immunologic reconstitution.\n",
    "\n",
    "Drug resistance testing is used to determine whether a patient with HIV has a mutated form of the virus that does not respond to antiretroviral therapy (ART).\n",
    "\n",
    "If an HIV-infected patient becomes resistant to a drug and continues to take the same medication, HIV is able to multiply faster because the drug cannot stop it from replicating. When the new, mutated form is favored, it is called selective pressure. If the resistant virus makes enough copies of itself, it may eventually become the dominant type of HIV in the body. Once this happens, the medication is ineffective, and the patient will be resistant to the specific medication.\n",
    "\n",
    "There are two main types of drug resistance tests: genotypic and phenotypic resistance tests.\n",
    "\n",
    "Genotypic resistance testing examines the genetic structure (genotype) of a patient's HIV. A blood sample is taken from the patient, and the HIV is analyzed for the presence of specific genetic mutations that are known to cause resistance to specific drugs. For instance, researchers have determined that lamivudine (Epivir®) and emtricitabine (Emtriva®) are not effective against forms of HIV that contain the mutation \"M184V\" in its reverse transcriptase gene. If a patient tests positive for this mutation, it is highly likely that he or she is resistant to both drugs, and different drugs should be prescribed.\n",
    "\n",
    "Phenotypic testing directly measures the sensitivity (phenotype) of a patient's HIV in response to specific antiretrovirals. Many experts believe that these tests are more accurate and comprehensive than genotypic tests. These tests can help a physician determine the amount or concentration of a drug that is needed to stop a specific strain of HIV from replicating in a patient.\n",
    "\n",
    "HIV-1, which causes almost all the cases of AIDS worldwide. But having HIV doesn't mean you have AIDS. Even without treatment, it takes time for HIV to progress to AIDS—usually 10 to 12 years. With treatment, many people with HIV are able to live long and active lives.\n",
    "\n",
    "The most common HIV tests use blood to detect HIV infection. The enzyme-linked immunosorbent assay (ELISA) tests a patient's blood sample for antibodies. Oral fluid (not saliva), collected from the cheeks and gums, may also be used to perform an ELISA. Oral fluid ELISA tests are considered as sensitive as a blood test\n",
    "\n",
    "A Western blot test is typically used to confirm a positive HIV diagnosis. During the test, a small sample of blood is taken and it is used to detect HIV antibodies, not the HIV virus itself. The Western blot test separates the blood proteins and detects the specific proteins (called HIV antibodies) that indicate an HIV infection.\n",
    "\n",
    "Polymerase chain reaction (PCR) tests are used to detect HIV's genetic material, called RNA. These tests can be used to screen the donated blood supply and to detect very early infections before antibodies have been developed. This test may be performed just days or weeks after exposure to HIV. Although these tests are the most accurate, they are not performed as often as the other HIV tests because they are expensive and also time- and labor-intensive.\n",
    "\n",
    "\n"
   ]
  },
  {
   "cell_type": "code",
   "execution_count": null,
   "metadata": {},
   "outputs": [],
   "source": []
  },
  {
   "cell_type": "code",
   "execution_count": null,
   "metadata": {},
   "outputs": [],
   "source": []
  },
  {
   "cell_type": "code",
   "execution_count": null,
   "metadata": {},
   "outputs": [],
   "source": []
  }
 ],
 "metadata": {
  "kernelspec": {
   "display_name": "Python 3",
   "language": "python",
   "name": "python3"
  },
  "language_info": {
   "codemirror_mode": {
    "name": "ipython",
    "version": 3
   },
   "file_extension": ".py",
   "mimetype": "text/x-python",
   "name": "python",
   "nbconvert_exporter": "python",
   "pygments_lexer": "ipython3",
   "version": "3.8.3"
  }
 },
 "nbformat": 4,
 "nbformat_minor": 2
}
