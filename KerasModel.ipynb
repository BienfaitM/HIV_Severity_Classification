{
 "cells": [
  {
   "cell_type": "code",
   "execution_count": 1,
   "metadata": {},
   "outputs": [],
   "source": [
    "import numpy as np \n",
    "import pandas as pd\n",
    "\n",
    "import torch\n",
    "import torch.nn as nn\n",
    "import torch.nn.functional as F\n",
    "import torch.utils.data\n",
    "from sklearn.model_selection import train_test_split\n"
   ]
  },
  {
   "cell_type": "code",
   "execution_count": 2,
   "metadata": {},
   "outputs": [
    {
     "data": {
      "text/html": [
       "<div>\n",
       "<style scoped>\n",
       "    .dataframe tbody tr th:only-of-type {\n",
       "        vertical-align: middle;\n",
       "    }\n",
       "\n",
       "    .dataframe tbody tr th {\n",
       "        vertical-align: top;\n",
       "    }\n",
       "\n",
       "    .dataframe thead th {\n",
       "        text-align: right;\n",
       "    }\n",
       "</style>\n",
       "<table border=\"1\" class=\"dataframe\">\n",
       "  <thead>\n",
       "    <tr style=\"text-align: right;\">\n",
       "      <th></th>\n",
       "      <th>Unnamed: 0</th>\n",
       "      <th>CD4NadirBeforeTCE</th>\n",
       "      <th>BaselineCD4Count</th>\n",
       "      <th>pastrawLoad</th>\n",
       "      <th>pastCD4count</th>\n",
       "      <th>BaselineRNAlog</th>\n",
       "    </tr>\n",
       "  </thead>\n",
       "  <tbody>\n",
       "    <tr>\n",
       "      <th>0</th>\n",
       "      <td>0</td>\n",
       "      <td>5</td>\n",
       "      <td>100</td>\n",
       "      <td>1000</td>\n",
       "      <td>40</td>\n",
       "      <td>0</td>\n",
       "    </tr>\n",
       "    <tr>\n",
       "      <th>1</th>\n",
       "      <td>1</td>\n",
       "      <td>267</td>\n",
       "      <td>296</td>\n",
       "      <td>15849</td>\n",
       "      <td>5</td>\n",
       "      <td>1</td>\n",
       "    </tr>\n",
       "    <tr>\n",
       "      <th>2</th>\n",
       "      <td>2</td>\n",
       "      <td>296</td>\n",
       "      <td>369</td>\n",
       "      <td>3981</td>\n",
       "      <td>164</td>\n",
       "      <td>0</td>\n",
       "    </tr>\n",
       "    <tr>\n",
       "      <th>3</th>\n",
       "      <td>3</td>\n",
       "      <td>19</td>\n",
       "      <td>19</td>\n",
       "      <td>19953</td>\n",
       "      <td>156</td>\n",
       "      <td>1</td>\n",
       "    </tr>\n",
       "    <tr>\n",
       "      <th>4</th>\n",
       "      <td>4</td>\n",
       "      <td>106</td>\n",
       "      <td>207</td>\n",
       "      <td>15849</td>\n",
       "      <td>472</td>\n",
       "      <td>0</td>\n",
       "    </tr>\n",
       "    <tr>\n",
       "      <th>...</th>\n",
       "      <td>...</td>\n",
       "      <td>...</td>\n",
       "      <td>...</td>\n",
       "      <td>...</td>\n",
       "      <td>...</td>\n",
       "      <td>...</td>\n",
       "    </tr>\n",
       "    <tr>\n",
       "      <th>109147</th>\n",
       "      <td>109147</td>\n",
       "      <td>50</td>\n",
       "      <td>101</td>\n",
       "      <td>501</td>\n",
       "      <td>51</td>\n",
       "      <td>0</td>\n",
       "    </tr>\n",
       "    <tr>\n",
       "      <th>109148</th>\n",
       "      <td>109148</td>\n",
       "      <td>213</td>\n",
       "      <td>403</td>\n",
       "      <td>79</td>\n",
       "      <td>112</td>\n",
       "      <td>1</td>\n",
       "    </tr>\n",
       "    <tr>\n",
       "      <th>109149</th>\n",
       "      <td>109149</td>\n",
       "      <td>224</td>\n",
       "      <td>247</td>\n",
       "      <td>3981</td>\n",
       "      <td>244</td>\n",
       "      <td>1</td>\n",
       "    </tr>\n",
       "    <tr>\n",
       "      <th>109150</th>\n",
       "      <td>109150</td>\n",
       "      <td>9</td>\n",
       "      <td>81</td>\n",
       "      <td>5012</td>\n",
       "      <td>88</td>\n",
       "      <td>1</td>\n",
       "    </tr>\n",
       "    <tr>\n",
       "      <th>109151</th>\n",
       "      <td>109151</td>\n",
       "      <td>151</td>\n",
       "      <td>207</td>\n",
       "      <td>1995</td>\n",
       "      <td>416</td>\n",
       "      <td>0</td>\n",
       "    </tr>\n",
       "  </tbody>\n",
       "</table>\n",
       "<p>109152 rows × 6 columns</p>\n",
       "</div>"
      ],
      "text/plain": [
       "        Unnamed: 0  CD4NadirBeforeTCE  BaselineCD4Count  pastrawLoad  \\\n",
       "0                0                  5               100         1000   \n",
       "1                1                267               296        15849   \n",
       "2                2                296               369         3981   \n",
       "3                3                 19                19        19953   \n",
       "4                4                106               207        15849   \n",
       "...            ...                ...               ...          ...   \n",
       "109147      109147                 50               101          501   \n",
       "109148      109148                213               403           79   \n",
       "109149      109149                224               247         3981   \n",
       "109150      109150                  9                81         5012   \n",
       "109151      109151                151               207         1995   \n",
       "\n",
       "        pastCD4count  BaselineRNAlog  \n",
       "0                 40               0  \n",
       "1                  5               1  \n",
       "2                164               0  \n",
       "3                156               1  \n",
       "4                472               0  \n",
       "...              ...             ...  \n",
       "109147            51               0  \n",
       "109148           112               1  \n",
       "109149           244               1  \n",
       "109150            88               1  \n",
       "109151           416               0  \n",
       "\n",
       "[109152 rows x 6 columns]"
      ]
     },
     "execution_count": 2,
     "metadata": {},
     "output_type": "execute_result"
    }
   ],
   "source": [
    "data = pd.read_csv('/Users/mt/Documents/TCEproject/data/data3.csv')\n",
    "data"
   ]
  },
  {
   "cell_type": "code",
   "execution_count": 3,
   "metadata": {},
   "outputs": [
    {
     "data": {
      "text/html": [
       "<div>\n",
       "<style scoped>\n",
       "    .dataframe tbody tr th:only-of-type {\n",
       "        vertical-align: middle;\n",
       "    }\n",
       "\n",
       "    .dataframe tbody tr th {\n",
       "        vertical-align: top;\n",
       "    }\n",
       "\n",
       "    .dataframe thead th {\n",
       "        text-align: right;\n",
       "    }\n",
       "</style>\n",
       "<table border=\"1\" class=\"dataframe\">\n",
       "  <thead>\n",
       "    <tr style=\"text-align: right;\">\n",
       "      <th></th>\n",
       "      <th>CD4NadirBeforeTCE</th>\n",
       "      <th>BaselineCD4Count</th>\n",
       "      <th>pastrawLoad</th>\n",
       "      <th>pastCD4count</th>\n",
       "      <th>BaselineRNAlog</th>\n",
       "    </tr>\n",
       "  </thead>\n",
       "  <tbody>\n",
       "    <tr>\n",
       "      <th>0</th>\n",
       "      <td>5</td>\n",
       "      <td>100</td>\n",
       "      <td>1000</td>\n",
       "      <td>40</td>\n",
       "      <td>0</td>\n",
       "    </tr>\n",
       "    <tr>\n",
       "      <th>1</th>\n",
       "      <td>267</td>\n",
       "      <td>296</td>\n",
       "      <td>15849</td>\n",
       "      <td>5</td>\n",
       "      <td>1</td>\n",
       "    </tr>\n",
       "    <tr>\n",
       "      <th>2</th>\n",
       "      <td>296</td>\n",
       "      <td>369</td>\n",
       "      <td>3981</td>\n",
       "      <td>164</td>\n",
       "      <td>0</td>\n",
       "    </tr>\n",
       "    <tr>\n",
       "      <th>3</th>\n",
       "      <td>19</td>\n",
       "      <td>19</td>\n",
       "      <td>19953</td>\n",
       "      <td>156</td>\n",
       "      <td>1</td>\n",
       "    </tr>\n",
       "    <tr>\n",
       "      <th>4</th>\n",
       "      <td>106</td>\n",
       "      <td>207</td>\n",
       "      <td>15849</td>\n",
       "      <td>472</td>\n",
       "      <td>0</td>\n",
       "    </tr>\n",
       "    <tr>\n",
       "      <th>...</th>\n",
       "      <td>...</td>\n",
       "      <td>...</td>\n",
       "      <td>...</td>\n",
       "      <td>...</td>\n",
       "      <td>...</td>\n",
       "    </tr>\n",
       "    <tr>\n",
       "      <th>109147</th>\n",
       "      <td>50</td>\n",
       "      <td>101</td>\n",
       "      <td>501</td>\n",
       "      <td>51</td>\n",
       "      <td>0</td>\n",
       "    </tr>\n",
       "    <tr>\n",
       "      <th>109148</th>\n",
       "      <td>213</td>\n",
       "      <td>403</td>\n",
       "      <td>79</td>\n",
       "      <td>112</td>\n",
       "      <td>1</td>\n",
       "    </tr>\n",
       "    <tr>\n",
       "      <th>109149</th>\n",
       "      <td>224</td>\n",
       "      <td>247</td>\n",
       "      <td>3981</td>\n",
       "      <td>244</td>\n",
       "      <td>1</td>\n",
       "    </tr>\n",
       "    <tr>\n",
       "      <th>109150</th>\n",
       "      <td>9</td>\n",
       "      <td>81</td>\n",
       "      <td>5012</td>\n",
       "      <td>88</td>\n",
       "      <td>1</td>\n",
       "    </tr>\n",
       "    <tr>\n",
       "      <th>109151</th>\n",
       "      <td>151</td>\n",
       "      <td>207</td>\n",
       "      <td>1995</td>\n",
       "      <td>416</td>\n",
       "      <td>0</td>\n",
       "    </tr>\n",
       "  </tbody>\n",
       "</table>\n",
       "<p>109152 rows × 5 columns</p>\n",
       "</div>"
      ],
      "text/plain": [
       "        CD4NadirBeforeTCE  BaselineCD4Count  pastrawLoad  pastCD4count  \\\n",
       "0                       5               100         1000            40   \n",
       "1                     267               296        15849             5   \n",
       "2                     296               369         3981           164   \n",
       "3                      19                19        19953           156   \n",
       "4                     106               207        15849           472   \n",
       "...                   ...               ...          ...           ...   \n",
       "109147                 50               101          501            51   \n",
       "109148                213               403           79           112   \n",
       "109149                224               247         3981           244   \n",
       "109150                  9                81         5012            88   \n",
       "109151                151               207         1995           416   \n",
       "\n",
       "        BaselineRNAlog  \n",
       "0                    0  \n",
       "1                    1  \n",
       "2                    0  \n",
       "3                    1  \n",
       "4                    0  \n",
       "...                ...  \n",
       "109147               0  \n",
       "109148               1  \n",
       "109149               1  \n",
       "109150               1  \n",
       "109151               0  \n",
       "\n",
       "[109152 rows x 5 columns]"
      ]
     },
     "execution_count": 3,
     "metadata": {},
     "output_type": "execute_result"
    }
   ],
   "source": [
    "data_copy = data.drop(['Unnamed: 0'], axis =1)\n",
    "data_copy"
   ]
  },
  {
   "cell_type": "code",
   "execution_count": 4,
   "metadata": {},
   "outputs": [
    {
     "data": {
      "text/plain": [
       "array([[     0,      5,    100,   1000,     40,      0],\n",
       "       [     1,    267,    296,  15849,      5,      1],\n",
       "       [     2,    296,    369,   3981,    164,      0],\n",
       "       ...,\n",
       "       [109149,    224,    247,   3981,    244,      1],\n",
       "       [109150,      9,     81,   5012,     88,      1],\n",
       "       [109151,    151,    207,   1995,    416,      0]])"
      ]
     },
     "execution_count": 4,
     "metadata": {},
     "output_type": "execute_result"
    }
   ],
   "source": [
    "data.values"
   ]
  },
  {
   "cell_type": "code",
   "execution_count": 5,
   "metadata": {},
   "outputs": [],
   "source": [
    "from sklearn.model_selection import train_test_split"
   ]
  },
  {
   "cell_type": "code",
   "execution_count": 6,
   "metadata": {},
   "outputs": [],
   "source": [
    "y = data_copy['BaselineRNAlog'].values\n",
    "X = data_copy.drop(['BaselineRNAlog'], axis =1).values"
   ]
  },
  {
   "cell_type": "code",
   "execution_count": 7,
   "metadata": {},
   "outputs": [],
   "source": [
    "from sklearn.preprocessing import LabelEncoder\n"
   ]
  },
  {
   "cell_type": "code",
   "execution_count": 8,
   "metadata": {},
   "outputs": [],
   "source": [
    "encoder = LabelEncoder()\n",
    "encoder.fit(y)\n",
    "y= encoder.transform(y)"
   ]
  },
  {
   "cell_type": "code",
   "execution_count": 9,
   "metadata": {},
   "outputs": [
    {
     "data": {
      "text/plain": [
       "array([0, 1, 0, ..., 1, 1, 0])"
      ]
     },
     "execution_count": 9,
     "metadata": {},
     "output_type": "execute_result"
    }
   ],
   "source": [
    "y"
   ]
  },
  {
   "cell_type": "code",
   "execution_count": 10,
   "metadata": {},
   "outputs": [
    {
     "data": {
      "text/plain": [
       "array([[    5,   100,  1000,    40],\n",
       "       [  267,   296, 15849,     5],\n",
       "       [  296,   369,  3981,   164],\n",
       "       ...,\n",
       "       [  224,   247,  3981,   244],\n",
       "       [    9,    81,  5012,    88],\n",
       "       [  151,   207,  1995,   416]])"
      ]
     },
     "execution_count": 10,
     "metadata": {},
     "output_type": "execute_result"
    }
   ],
   "source": [
    "X"
   ]
  },
  {
   "cell_type": "code",
   "execution_count": 11,
   "metadata": {},
   "outputs": [],
   "source": [
    "from sklearn.preprocessing import StandardScaler"
   ]
  },
  {
   "cell_type": "code",
   "execution_count": 12,
   "metadata": {},
   "outputs": [
    {
     "data": {
      "text/plain": [
       "StandardScaler()"
      ]
     },
     "execution_count": 12,
     "metadata": {},
     "output_type": "execute_result"
    }
   ],
   "source": [
    "scaler = StandardScaler()\n",
    "scaler.fit(X)"
   ]
  },
  {
   "cell_type": "code",
   "execution_count": 13,
   "metadata": {},
   "outputs": [
    {
     "data": {
      "text/plain": [
       "array([[-1.0433021 , -0.96295819, -0.26904034, -1.34010951],\n",
       "       [ 0.97377943,  0.01935292, -0.12737008, -1.4959953 ],\n",
       "       [ 1.19704418,  0.38521369, -0.24059943, -0.78782844],\n",
       "       ...,\n",
       "       [ 0.6427317 , -0.22622486, -0.24059943, -0.43151807],\n",
       "       [-1.01250696, -1.05818223, -0.23076294, -1.12632329],\n",
       "       [ 0.08072043, -0.42669651, -0.25954732,  0.33454923]])"
      ]
     },
     "execution_count": 13,
     "metadata": {},
     "output_type": "execute_result"
    }
   ],
   "source": [
    "X = (scaler.transform(X))\n",
    "X"
   ]
  },
  {
   "cell_type": "code",
   "execution_count": 14,
   "metadata": {},
   "outputs": [],
   "source": [
    "X_train,X_test,y_train,y_test = train_test_split(X,y, test_size = 0.30, random_state = 0)\n",
    "X_test, X_val, y_test, y_val  = train_test_split(X_test,y_test, test_size = 0.5, random_state = 42)"
   ]
  },
  {
   "cell_type": "code",
   "execution_count": 15,
   "metadata": {},
   "outputs": [
    {
     "data": {
      "text/plain": [
       "array([[ 0.28858762, -0.44674368, -0.27782735,  4.68153576],\n",
       "       [-0.54288111,  0.42530802, -0.18317379,  0.4726195 ],\n",
       "       [ 0.47335844,  1.10691165,  2.7384642 ,  0.17420957],\n",
       "       ...,\n",
       "       [-0.93551912, -0.93789923, -0.24059943,  1.06498549],\n",
       "       [ 0.69662319, -0.30641352, -0.23076294, -1.33565563],\n",
       "       [-1.05869967,  0.89140462, -0.26345902, -0.93926034]])"
      ]
     },
     "execution_count": 15,
     "metadata": {},
     "output_type": "execute_result"
    }
   ],
   "source": [
    "X_test"
   ]
  },
  {
   "cell_type": "code",
   "execution_count": null,
   "metadata": {},
   "outputs": [],
   "source": []
  },
  {
   "cell_type": "code",
   "execution_count": null,
   "metadata": {},
   "outputs": [],
   "source": []
  },
  {
   "cell_type": "code",
   "execution_count": 16,
   "metadata": {},
   "outputs": [],
   "source": [
    "import tensorflow as tf\n",
    "from tensorflow import keras\n",
    "from tensorflow.keras import layers"
   ]
  },
  {
   "cell_type": "code",
   "execution_count": 17,
   "metadata": {},
   "outputs": [],
   "source": [
    "model = keras.Sequential()\n",
    "model.add(layers.Dense(12, input_dim  = 4, activation=\"relu\"))\n",
    "model.add(layers.Dense(10, activation ='relu'))\n",
    "model.add(layers.Dense(8,  activation = 'relu'))\n",
    "model.add(layers.Dense(6,  activation = 'relu'))\n",
    "model.add(layers.Dense(4,  activation = 'relu'))\n",
    "model.add(layers.Dense(2,  activation = 'relu'))\n",
    "model.add(layers.Dense(1,  activation ='sigmoid'))"
   ]
  },
  {
   "cell_type": "code",
   "execution_count": 19,
   "metadata": {},
   "outputs": [
    {
     "data": {
      "text/plain": [
       "7"
      ]
     },
     "execution_count": 19,
     "metadata": {},
     "output_type": "execute_result"
    }
   ],
   "source": [
    "len(model.layers)"
   ]
  },
  {
   "cell_type": "code",
   "execution_count": 18,
   "metadata": {},
   "outputs": [],
   "source": [
    "# model.compile(loss='binary_crossentropy', optimizer='sgd',metrics =[tf.keras.metrics.BinaryAccuracy()])\n",
    "model.compile(loss='binary_crossentropy', optimizer='adam',metrics =[tf.keras.metrics.BinaryAccuracy()])"
   ]
  },
  {
   "cell_type": "code",
   "execution_count": 45,
   "metadata": {},
   "outputs": [
    {
     "name": "stdout",
     "output_type": "stream",
     "text": [
      "Epoch 1/130\n",
      "1194/1194 [==============================] - 2s 2ms/step - loss: 0.4269 - binary_accuracy: 0.8043 - val_loss: 0.4252 - val_binary_accuracy: 0.8049\n",
      "Epoch 2/130\n",
      "1194/1194 [==============================] - 2s 2ms/step - loss: 0.4324 - binary_accuracy: 0.8026 - val_loss: 0.4254 - val_binary_accuracy: 0.8063\n",
      "Epoch 3/130\n",
      "1194/1194 [==============================] - 2s 2ms/step - loss: 0.4188 - binary_accuracy: 0.8101 - val_loss: 0.4216 - val_binary_accuracy: 0.8063\n",
      "Epoch 4/130\n",
      "1194/1194 [==============================] - 2s 2ms/step - loss: 0.4263 - binary_accuracy: 0.8052 - val_loss: 0.4443 - val_binary_accuracy: 0.7943\n",
      "Epoch 5/130\n",
      "1194/1194 [==============================] - 2s 2ms/step - loss: 0.4290 - binary_accuracy: 0.8040 - val_loss: 0.4492 - val_binary_accuracy: 0.7997\n",
      "Epoch 6/130\n",
      "1194/1194 [==============================] - 2s 2ms/step - loss: 0.4335 - binary_accuracy: 0.8006 - val_loss: 0.4231 - val_binary_accuracy: 0.8032\n",
      "Epoch 7/130\n",
      "1194/1194 [==============================] - 3s 2ms/step - loss: 0.4184 - binary_accuracy: 0.8100 - val_loss: 0.4264 - val_binary_accuracy: 0.8121\n",
      "Epoch 8/130\n",
      "1194/1194 [==============================] - 3s 2ms/step - loss: 0.4407 - binary_accuracy: 0.7952 - val_loss: 0.4331 - val_binary_accuracy: 0.7988\n",
      "Epoch 9/130\n",
      "1194/1194 [==============================] - 3s 2ms/step - loss: 0.4283 - binary_accuracy: 0.8025 - val_loss: 0.4294 - val_binary_accuracy: 0.7986\n",
      "Epoch 10/130\n",
      "1194/1194 [==============================] - 3s 2ms/step - loss: 0.4252 - binary_accuracy: 0.8054 - val_loss: 0.4162 - val_binary_accuracy: 0.8115\n",
      "Epoch 11/130\n",
      "1194/1194 [==============================] - 2s 2ms/step - loss: 0.4255 - binary_accuracy: 0.8055 - val_loss: 0.4393 - val_binary_accuracy: 0.7969\n",
      "Epoch 12/130\n",
      "1194/1194 [==============================] - 2s 2ms/step - loss: 0.4298 - binary_accuracy: 0.8035 - val_loss: 0.4430 - val_binary_accuracy: 0.8016\n",
      "Epoch 13/130\n",
      "1194/1194 [==============================] - 2s 2ms/step - loss: 0.4266 - binary_accuracy: 0.8046 - val_loss: 0.4180 - val_binary_accuracy: 0.8132\n",
      "Epoch 14/130\n",
      "1194/1194 [==============================] - 2s 2ms/step - loss: 0.4261 - binary_accuracy: 0.8054 - val_loss: 0.4962 - val_binary_accuracy: 0.7553\n",
      "Epoch 15/130\n",
      "1194/1194 [==============================] - 2s 1ms/step - loss: 0.4227 - binary_accuracy: 0.8083 - val_loss: 0.4187 - val_binary_accuracy: 0.8142\n",
      "Epoch 16/130\n",
      "1194/1194 [==============================] - 3s 2ms/step - loss: 0.4386 - binary_accuracy: 0.7975 - val_loss: 0.4589 - val_binary_accuracy: 0.7853\n",
      "Epoch 17/130\n",
      "1194/1194 [==============================] - 2s 2ms/step - loss: 0.4213 - binary_accuracy: 0.8089 - val_loss: 0.4107 - val_binary_accuracy: 0.8158\n",
      "Epoch 18/130\n",
      "1194/1194 [==============================] - 2s 2ms/step - loss: 0.4274 - binary_accuracy: 0.8065 - val_loss: 0.4210 - val_binary_accuracy: 0.8096\n",
      "Epoch 19/130\n",
      "1194/1194 [==============================] - 2s 2ms/step - loss: 0.4353 - binary_accuracy: 0.8006 - val_loss: 0.4201 - val_binary_accuracy: 0.8123\n",
      "Epoch 20/130\n",
      "1194/1194 [==============================] - 2s 2ms/step - loss: 0.4305 - binary_accuracy: 0.8039 - val_loss: 0.4441 - val_binary_accuracy: 0.7876\n",
      "Epoch 21/130\n",
      "1194/1194 [==============================] - 2s 2ms/step - loss: 0.4336 - binary_accuracy: 0.7999 - val_loss: 0.4243 - val_binary_accuracy: 0.8066\n",
      "Epoch 22/130\n",
      "1194/1194 [==============================] - 2s 1ms/step - loss: 0.4228 - binary_accuracy: 0.8084 - val_loss: 0.4159 - val_binary_accuracy: 0.8118\n",
      "Epoch 23/130\n",
      "1194/1194 [==============================] - 2s 1ms/step - loss: 0.4297 - binary_accuracy: 0.8043 - val_loss: 0.4213 - val_binary_accuracy: 0.8070\n",
      "Epoch 24/130\n",
      "1194/1194 [==============================] - 2s 1ms/step - loss: 0.4237 - binary_accuracy: 0.8062 - val_loss: 0.4381 - val_binary_accuracy: 0.7945\n",
      "Epoch 25/130\n",
      "1194/1194 [==============================] - 2s 1ms/step - loss: 0.4269 - binary_accuracy: 0.8048 - val_loss: 0.4258 - val_binary_accuracy: 0.8044\n",
      "Epoch 26/130\n",
      "1194/1194 [==============================] - 2s 1ms/step - loss: 0.4247 - binary_accuracy: 0.8065 - val_loss: 0.4592 - val_binary_accuracy: 0.7771\n",
      "Epoch 27/130\n",
      "1194/1194 [==============================] - 2s 1ms/step - loss: 0.4285 - binary_accuracy: 0.8043 - val_loss: 0.4424 - val_binary_accuracy: 0.7919\n",
      "Epoch 28/130\n",
      "1194/1194 [==============================] - 2s 1ms/step - loss: 0.4304 - binary_accuracy: 0.8039 - val_loss: 0.4550 - val_binary_accuracy: 0.7825\n",
      "Epoch 29/130\n",
      "1194/1194 [==============================] - 2s 1ms/step - loss: 0.4202 - binary_accuracy: 0.8098 - val_loss: 0.4208 - val_binary_accuracy: 0.8148\n",
      "Epoch 30/130\n",
      "1194/1194 [==============================] - 2s 1ms/step - loss: 0.4250 - binary_accuracy: 0.8081 - val_loss: 0.4381 - val_binary_accuracy: 0.7936\n",
      "Epoch 31/130\n",
      "1194/1194 [==============================] - 2s 1ms/step - loss: 0.4292 - binary_accuracy: 0.8047 - val_loss: 0.4257 - val_binary_accuracy: 0.8077\n",
      "Epoch 32/130\n",
      "1194/1194 [==============================] - 2s 2ms/step - loss: 0.4216 - binary_accuracy: 0.8087 - val_loss: 0.4241 - val_binary_accuracy: 0.8080\n",
      "Epoch 33/130\n",
      "1194/1194 [==============================] - 2s 1ms/step - loss: 0.4273 - binary_accuracy: 0.8051 - val_loss: 0.4196 - val_binary_accuracy: 0.8142\n",
      "Epoch 34/130\n",
      "1194/1194 [==============================] - 2s 1ms/step - loss: 0.4296 - binary_accuracy: 0.8049 - val_loss: 0.4299 - val_binary_accuracy: 0.8074\n",
      "Epoch 35/130\n",
      "1194/1194 [==============================] - 2s 1ms/step - loss: 0.4264 - binary_accuracy: 0.8061 - val_loss: 0.4154 - val_binary_accuracy: 0.8130\n",
      "Epoch 36/130\n",
      "1194/1194 [==============================] - 2s 1ms/step - loss: 0.4157 - binary_accuracy: 0.8132 - val_loss: 0.4163 - val_binary_accuracy: 0.8159\n",
      "Epoch 37/130\n",
      "1194/1194 [==============================] - 2s 1ms/step - loss: 0.4368 - binary_accuracy: 0.8016 - val_loss: 0.4177 - val_binary_accuracy: 0.8090\n",
      "Epoch 38/130\n",
      "1194/1194 [==============================] - 2s 1ms/step - loss: 0.4260 - binary_accuracy: 0.8065 - val_loss: 0.4252 - val_binary_accuracy: 0.8066\n",
      "Epoch 39/130\n",
      "1194/1194 [==============================] - 2s 1ms/step - loss: 0.4230 - binary_accuracy: 0.8084 - val_loss: 0.4318 - val_binary_accuracy: 0.8016\n",
      "Epoch 40/130\n",
      "1194/1194 [==============================] - 2s 1ms/step - loss: 0.4264 - binary_accuracy: 0.8070 - val_loss: 0.4201 - val_binary_accuracy: 0.8135\n",
      "Epoch 41/130\n",
      "1194/1194 [==============================] - 2s 1ms/step - loss: 0.4183 - binary_accuracy: 0.8116 - val_loss: 0.4223 - val_binary_accuracy: 0.8027\n",
      "Epoch 42/130\n",
      "1194/1194 [==============================] - 2s 1ms/step - loss: 0.4185 - binary_accuracy: 0.8110 - val_loss: 0.4179 - val_binary_accuracy: 0.8045\n",
      "Epoch 43/130\n",
      "1194/1194 [==============================] - 2s 1ms/step - loss: 0.4212 - binary_accuracy: 0.8110 - val_loss: 0.4224 - val_binary_accuracy: 0.8123\n",
      "Epoch 44/130\n",
      "1194/1194 [==============================] - 2s 2ms/step - loss: 0.4283 - binary_accuracy: 0.8078 - val_loss: 0.4611 - val_binary_accuracy: 0.7890\n",
      "Epoch 45/130\n",
      "1194/1194 [==============================] - 2s 2ms/step - loss: 0.4238 - binary_accuracy: 0.8071 - val_loss: 0.4285 - val_binary_accuracy: 0.8025\n",
      "Epoch 46/130\n",
      "1194/1194 [==============================] - 3s 3ms/step - loss: 0.4284 - binary_accuracy: 0.8048 - val_loss: 0.4126 - val_binary_accuracy: 0.8176\n",
      "Epoch 47/130\n",
      "1194/1194 [==============================] - 2s 2ms/step - loss: 0.4220 - binary_accuracy: 0.8098 - val_loss: 0.4519 - val_binary_accuracy: 0.7893\n",
      "Epoch 48/130\n",
      "1194/1194 [==============================] - 3s 2ms/step - loss: 0.4262 - binary_accuracy: 0.8061 - val_loss: 0.4139 - val_binary_accuracy: 0.8170\n",
      "Epoch 49/130\n",
      "1194/1194 [==============================] - 3s 2ms/step - loss: 0.4192 - binary_accuracy: 0.8123 - val_loss: 0.4582 - val_binary_accuracy: 0.7873\n",
      "Epoch 50/130\n",
      "1194/1194 [==============================] - 3s 2ms/step - loss: 0.4194 - binary_accuracy: 0.8107 - val_loss: 0.4099 - val_binary_accuracy: 0.8182\n",
      "Epoch 51/130\n",
      "1194/1194 [==============================] - 3s 2ms/step - loss: 0.4262 - binary_accuracy: 0.8069 - val_loss: 0.4214 - val_binary_accuracy: 0.8115\n",
      "Epoch 52/130\n",
      "1194/1194 [==============================] - 3s 2ms/step - loss: 0.4263 - binary_accuracy: 0.8065 - val_loss: 0.4308 - val_binary_accuracy: 0.8029\n",
      "Epoch 53/130\n",
      "1194/1194 [==============================] - 2s 2ms/step - loss: 0.4217 - binary_accuracy: 0.8103 - val_loss: 0.4090 - val_binary_accuracy: 0.8170\n",
      "Epoch 54/130\n",
      "1194/1194 [==============================] - 3s 2ms/step - loss: 0.4240 - binary_accuracy: 0.8086 - val_loss: 0.4124 - val_binary_accuracy: 0.8151\n",
      "Epoch 55/130\n",
      "1194/1194 [==============================] - 2s 2ms/step - loss: 0.4265 - binary_accuracy: 0.8077 - val_loss: 0.4193 - val_binary_accuracy: 0.8077\n",
      "Epoch 56/130\n",
      "1194/1194 [==============================] - 3s 2ms/step - loss: 0.4257 - binary_accuracy: 0.8063 - val_loss: 0.4263 - val_binary_accuracy: 0.8052\n",
      "Epoch 57/130\n",
      "1194/1194 [==============================] - 2s 1ms/step - loss: 0.4213 - binary_accuracy: 0.8100 - val_loss: 0.4215 - val_binary_accuracy: 0.8090\n",
      "Epoch 58/130\n",
      "1194/1194 [==============================] - 2s 2ms/step - loss: 0.4270 - binary_accuracy: 0.8065 - val_loss: 0.4168 - val_binary_accuracy: 0.8174\n",
      "Epoch 59/130\n",
      "1194/1194 [==============================] - 2s 2ms/step - loss: 0.4254 - binary_accuracy: 0.8072 - val_loss: 0.4171 - val_binary_accuracy: 0.8172\n",
      "Epoch 60/130\n",
      "1194/1194 [==============================] - 3s 2ms/step - loss: 0.4215 - binary_accuracy: 0.8102 - val_loss: 0.4174 - val_binary_accuracy: 0.8139\n",
      "Epoch 61/130\n",
      "1194/1194 [==============================] - 2s 2ms/step - loss: 0.4302 - binary_accuracy: 0.8043 - val_loss: 0.4334 - val_binary_accuracy: 0.7974\n",
      "Epoch 62/130\n",
      "1194/1194 [==============================] - 2s 1ms/step - loss: 0.4229 - binary_accuracy: 0.8081 - val_loss: 0.4487 - val_binary_accuracy: 0.7907\n",
      "Epoch 63/130\n",
      "1194/1194 [==============================] - 2s 1ms/step - loss: 0.4198 - binary_accuracy: 0.8106 - val_loss: 0.4107 - val_binary_accuracy: 0.8147\n",
      "Epoch 64/130\n",
      "1194/1194 [==============================] - 2s 1ms/step - loss: 0.4227 - binary_accuracy: 0.8092 - val_loss: 0.4754 - val_binary_accuracy: 0.7708\n",
      "Epoch 65/130\n",
      "1194/1194 [==============================] - 2s 1ms/step - loss: 0.4206 - binary_accuracy: 0.8086 - val_loss: 0.4197 - val_binary_accuracy: 0.8126\n",
      "Epoch 66/130\n",
      "1194/1194 [==============================] - 2s 1ms/step - loss: 0.4200 - binary_accuracy: 0.8106 - val_loss: 0.4534 - val_binary_accuracy: 0.7847\n",
      "Epoch 67/130\n",
      "1194/1194 [==============================] - 2s 1ms/step - loss: 0.4209 - binary_accuracy: 0.8103 - val_loss: 0.4110 - val_binary_accuracy: 0.8194\n",
      "Epoch 68/130\n",
      "1194/1194 [==============================] - 2s 1ms/step - loss: 0.4192 - binary_accuracy: 0.8108 - val_loss: 0.4424 - val_binary_accuracy: 0.7937\n",
      "Epoch 69/130\n",
      "1194/1194 [==============================] - 2s 1ms/step - loss: 0.4247 - binary_accuracy: 0.8078 - val_loss: 0.4156 - val_binary_accuracy: 0.8135\n",
      "Epoch 70/130\n",
      "1194/1194 [==============================] - 2s 1ms/step - loss: 0.4150 - binary_accuracy: 0.8145 - val_loss: 0.4237 - val_binary_accuracy: 0.8035\n",
      "Epoch 71/130\n",
      "1194/1194 [==============================] - 2s 1ms/step - loss: 0.4203 - binary_accuracy: 0.8108 - val_loss: 0.4744 - val_binary_accuracy: 0.7767\n",
      "Epoch 72/130\n",
      "1194/1194 [==============================] - 2s 1ms/step - loss: 0.4277 - binary_accuracy: 0.8059 - val_loss: 0.4150 - val_binary_accuracy: 0.8129\n",
      "Epoch 73/130\n",
      "1194/1194 [==============================] - 2s 1ms/step - loss: 0.4177 - binary_accuracy: 0.8131 - val_loss: 0.4160 - val_binary_accuracy: 0.8123\n",
      "Epoch 74/130\n",
      "1194/1194 [==============================] - 2s 1ms/step - loss: 0.4296 - binary_accuracy: 0.8035 - val_loss: 0.4359 - val_binary_accuracy: 0.7979\n",
      "Epoch 75/130\n",
      "1194/1194 [==============================] - 2s 1ms/step - loss: 0.4197 - binary_accuracy: 0.8106 - val_loss: 0.4319 - val_binary_accuracy: 0.8001\n",
      "Epoch 76/130\n",
      "1194/1194 [==============================] - 2s 1ms/step - loss: 0.4235 - binary_accuracy: 0.8082 - val_loss: 0.4389 - val_binary_accuracy: 0.7950\n",
      "Epoch 77/130\n",
      "1194/1194 [==============================] - 2s 1ms/step - loss: 0.4240 - binary_accuracy: 0.8077 - val_loss: 0.4323 - val_binary_accuracy: 0.8015\n",
      "Epoch 78/130\n",
      "1194/1194 [==============================] - 2s 1ms/step - loss: 0.4224 - binary_accuracy: 0.8089 - val_loss: 0.4272 - val_binary_accuracy: 0.8057\n",
      "Epoch 79/130\n",
      "1194/1194 [==============================] - 2s 1ms/step - loss: 0.4239 - binary_accuracy: 0.8100 - val_loss: 0.4099 - val_binary_accuracy: 0.8205\n",
      "Epoch 80/130\n",
      "1194/1194 [==============================] - 2s 1ms/step - loss: 0.4168 - binary_accuracy: 0.8126 - val_loss: 0.4104 - val_binary_accuracy: 0.8169\n",
      "Epoch 81/130\n",
      "1194/1194 [==============================] - 2s 1ms/step - loss: 0.4257 - binary_accuracy: 0.8075 - val_loss: 0.4724 - val_binary_accuracy: 0.7794\n",
      "Epoch 82/130\n",
      "1194/1194 [==============================] - 2s 1ms/step - loss: 0.4267 - binary_accuracy: 0.8053 - val_loss: 0.4143 - val_binary_accuracy: 0.8132\n",
      "Epoch 83/130\n",
      "1194/1194 [==============================] - 2s 1ms/step - loss: 0.4170 - binary_accuracy: 0.8121 - val_loss: 0.4327 - val_binary_accuracy: 0.8059\n",
      "Epoch 84/130\n",
      "1194/1194 [==============================] - 2s 1ms/step - loss: 0.4217 - binary_accuracy: 0.8101 - val_loss: 0.4121 - val_binary_accuracy: 0.8201\n",
      "Epoch 85/130\n",
      "1194/1194 [==============================] - 2s 1ms/step - loss: 0.4198 - binary_accuracy: 0.8107 - val_loss: 0.4097 - val_binary_accuracy: 0.8220\n",
      "Epoch 86/130\n",
      "1194/1194 [==============================] - 2s 1ms/step - loss: 0.4234 - binary_accuracy: 0.8083 - val_loss: 0.4197 - val_binary_accuracy: 0.8097\n",
      "Epoch 87/130\n",
      "1194/1194 [==============================] - 2s 2ms/step - loss: 0.4179 - binary_accuracy: 0.8118 - val_loss: 0.4117 - val_binary_accuracy: 0.8137\n",
      "Epoch 88/130\n",
      "1194/1194 [==============================] - 3s 2ms/step - loss: 0.4210 - binary_accuracy: 0.8104 - val_loss: 0.4158 - val_binary_accuracy: 0.8140\n",
      "Epoch 89/130\n",
      "1194/1194 [==============================] - 3s 3ms/step - loss: 0.4182 - binary_accuracy: 0.8123 - val_loss: 0.4215 - val_binary_accuracy: 0.8086\n",
      "Epoch 90/130\n",
      "1194/1194 [==============================] - 3s 2ms/step - loss: 0.4213 - binary_accuracy: 0.8079 - val_loss: 0.4475 - val_binary_accuracy: 0.7920\n",
      "Epoch 91/130\n",
      "1194/1194 [==============================] - 2s 2ms/step - loss: 0.4222 - binary_accuracy: 0.8095 - val_loss: 0.4312 - val_binary_accuracy: 0.8022\n",
      "Epoch 92/130\n",
      "1194/1194 [==============================] - 2s 2ms/step - loss: 0.4156 - binary_accuracy: 0.8128 - val_loss: 0.4431 - val_binary_accuracy: 0.8063\n",
      "Epoch 93/130\n",
      "1194/1194 [==============================] - 3s 2ms/step - loss: 0.4286 - binary_accuracy: 0.8060 - val_loss: 0.4197 - val_binary_accuracy: 0.8132\n",
      "Epoch 94/130\n",
      "1194/1194 [==============================] - 2s 2ms/step - loss: 0.4273 - binary_accuracy: 0.8056 - val_loss: 0.4247 - val_binary_accuracy: 0.8126\n",
      "Epoch 95/130\n",
      "1194/1194 [==============================] - 2s 2ms/step - loss: 0.4238 - binary_accuracy: 0.8070 - val_loss: 0.4195 - val_binary_accuracy: 0.8123\n",
      "Epoch 96/130\n",
      "1194/1194 [==============================] - 2s 2ms/step - loss: 0.4216 - binary_accuracy: 0.8094 - val_loss: 0.4249 - val_binary_accuracy: 0.8000\n",
      "Epoch 97/130\n",
      "1194/1194 [==============================] - 2s 2ms/step - loss: 0.4343 - binary_accuracy: 0.7998 - val_loss: 0.4587 - val_binary_accuracy: 0.7845\n",
      "Epoch 98/130\n",
      "1194/1194 [==============================] - 2s 2ms/step - loss: 0.4253 - binary_accuracy: 0.8062 - val_loss: 0.4393 - val_binary_accuracy: 0.7960\n",
      "Epoch 99/130\n",
      "1194/1194 [==============================] - 2s 2ms/step - loss: 0.4236 - binary_accuracy: 0.8068 - val_loss: 0.4521 - val_binary_accuracy: 0.7890\n",
      "Epoch 100/130\n",
      "1194/1194 [==============================] - 2s 2ms/step - loss: 0.4274 - binary_accuracy: 0.8055 - val_loss: 0.4116 - val_binary_accuracy: 0.8135\n",
      "Epoch 101/130\n",
      "1194/1194 [==============================] - 2s 2ms/step - loss: 0.4226 - binary_accuracy: 0.8092 - val_loss: 0.4381 - val_binary_accuracy: 0.8009\n",
      "Epoch 102/130\n",
      "1194/1194 [==============================] - 2s 2ms/step - loss: 0.4179 - binary_accuracy: 0.8120 - val_loss: 0.4695 - val_binary_accuracy: 0.7819\n",
      "Epoch 103/130\n"
     ]
    },
    {
     "name": "stdout",
     "output_type": "stream",
     "text": [
      "1194/1194 [==============================] - 2s 1ms/step - loss: 0.4288 - binary_accuracy: 0.8064 - val_loss: 0.4164 - val_binary_accuracy: 0.8182\n",
      "Epoch 104/130\n",
      "1194/1194 [==============================] - 2s 1ms/step - loss: 0.4222 - binary_accuracy: 0.8095 - val_loss: 0.4452 - val_binary_accuracy: 0.7957\n",
      "Epoch 105/130\n",
      "1194/1194 [==============================] - 2s 1ms/step - loss: 0.4212 - binary_accuracy: 0.8093 - val_loss: 0.4136 - val_binary_accuracy: 0.8165\n",
      "Epoch 106/130\n",
      "1194/1194 [==============================] - 2s 2ms/step - loss: 0.4180 - binary_accuracy: 0.8118 - val_loss: 0.4245 - val_binary_accuracy: 0.8108\n",
      "Epoch 107/130\n",
      "1194/1194 [==============================] - 2s 1ms/step - loss: 0.4253 - binary_accuracy: 0.8066 - val_loss: 0.4064 - val_binary_accuracy: 0.8210\n",
      "Epoch 108/130\n",
      "1194/1194 [==============================] - 2s 1ms/step - loss: 0.4150 - binary_accuracy: 0.8136 - val_loss: 0.4226 - val_binary_accuracy: 0.8157\n",
      "Epoch 109/130\n",
      "1194/1194 [==============================] - 2s 1ms/step - loss: 0.4209 - binary_accuracy: 0.8088 - val_loss: 0.4130 - val_binary_accuracy: 0.8198\n",
      "Epoch 110/130\n",
      "1194/1194 [==============================] - 2s 1ms/step - loss: 0.4202 - binary_accuracy: 0.8115 - val_loss: 0.4336 - val_binary_accuracy: 0.8032\n",
      "Epoch 111/130\n",
      "1194/1194 [==============================] - 2s 1ms/step - loss: 0.4151 - binary_accuracy: 0.8137 - val_loss: 0.4084 - val_binary_accuracy: 0.8157\n",
      "Epoch 112/130\n",
      "1194/1194 [==============================] - 2s 1ms/step - loss: 0.4341 - binary_accuracy: 0.8046 - val_loss: 0.5224 - val_binary_accuracy: 0.7756\n",
      "Epoch 113/130\n",
      "1194/1194 [==============================] - 2s 1ms/step - loss: 0.4205 - binary_accuracy: 0.8094 - val_loss: 0.4138 - val_binary_accuracy: 0.8151\n",
      "Epoch 114/130\n",
      "1194/1194 [==============================] - 2s 1ms/step - loss: 0.4197 - binary_accuracy: 0.8104 - val_loss: 0.4352 - val_binary_accuracy: 0.8038\n",
      "Epoch 115/130\n",
      "1194/1194 [==============================] - 3s 2ms/step - loss: 0.4163 - binary_accuracy: 0.8129 - val_loss: 0.4159 - val_binary_accuracy: 0.8129\n",
      "Epoch 116/130\n",
      "1194/1194 [==============================] - 2s 1ms/step - loss: 0.4335 - binary_accuracy: 0.8012 - val_loss: 0.4216 - val_binary_accuracy: 0.8102\n",
      "Epoch 117/130\n",
      "1194/1194 [==============================] - 2s 1ms/step - loss: 0.4244 - binary_accuracy: 0.8080 - val_loss: 0.4211 - val_binary_accuracy: 0.8149\n",
      "Epoch 118/130\n",
      "1194/1194 [==============================] - 2s 1ms/step - loss: 0.4242 - binary_accuracy: 0.8080 - val_loss: 0.4269 - val_binary_accuracy: 0.8044\n",
      "Epoch 119/130\n",
      "1194/1194 [==============================] - 2s 2ms/step - loss: 0.4257 - binary_accuracy: 0.8067 - val_loss: 0.4366 - val_binary_accuracy: 0.8038\n",
      "Epoch 120/130\n",
      "1194/1194 [==============================] - 2s 2ms/step - loss: 0.4251 - binary_accuracy: 0.8076 - val_loss: 0.4430 - val_binary_accuracy: 0.7920\n",
      "Epoch 121/130\n",
      "1194/1194 [==============================] - 2s 1ms/step - loss: 0.4238 - binary_accuracy: 0.8088 - val_loss: 0.4315 - val_binary_accuracy: 0.8073\n",
      "Epoch 122/130\n",
      "1194/1194 [==============================] - 2s 1ms/step - loss: 0.4211 - binary_accuracy: 0.8099 - val_loss: 0.4176 - val_binary_accuracy: 0.8115\n",
      "Epoch 123/130\n",
      "1194/1194 [==============================] - 2s 1ms/step - loss: 0.4200 - binary_accuracy: 0.8098 - val_loss: 0.4091 - val_binary_accuracy: 0.8178\n",
      "Epoch 124/130\n",
      "1194/1194 [==============================] - 2s 1ms/step - loss: 0.4276 - binary_accuracy: 0.8061 - val_loss: 0.4173 - val_binary_accuracy: 0.8126\n",
      "Epoch 125/130\n",
      "1194/1194 [==============================] - 2s 1ms/step - loss: 0.4248 - binary_accuracy: 0.8059 - val_loss: 0.4147 - val_binary_accuracy: 0.8186\n",
      "Epoch 126/130\n",
      "1194/1194 [==============================] - 2s 1ms/step - loss: 0.4210 - binary_accuracy: 0.8093 - val_loss: 0.4186 - val_binary_accuracy: 0.8151\n",
      "Epoch 127/130\n",
      "1194/1194 [==============================] - 2s 1ms/step - loss: 0.4243 - binary_accuracy: 0.8074 - val_loss: 0.4296 - val_binary_accuracy: 0.8039\n",
      "Epoch 128/130\n",
      "1194/1194 [==============================] - 2s 2ms/step - loss: 0.4305 - binary_accuracy: 0.8009 - val_loss: 0.4136 - val_binary_accuracy: 0.8185\n",
      "Epoch 129/130\n",
      "1194/1194 [==============================] - 2s 1ms/step - loss: 0.4168 - binary_accuracy: 0.8113 - val_loss: 0.4172 - val_binary_accuracy: 0.8157\n",
      "Epoch 130/130\n",
      "1194/1194 [==============================] - 2s 2ms/step - loss: 0.4165 - binary_accuracy: 0.8124 - val_loss: 0.4098 - val_binary_accuracy: 0.8200\n"
     ]
    },
    {
     "data": {
      "text/plain": [
       "<tensorflow.python.keras.callbacks.History at 0x7fdcd8d08190>"
      ]
     },
     "execution_count": 45,
     "metadata": {},
     "output_type": "execute_result"
    }
   ],
   "source": [
    "model.fit(X_train,y_train,validation_data=(X_val, y_val),epochs=130, batch_size=64)"
   ]
  },
  {
   "cell_type": "code",
   "execution_count": 46,
   "metadata": {},
   "outputs": [
    {
     "name": "stdout",
     "output_type": "stream",
     "text": [
      "Model: \"sequential\"\n",
      "_________________________________________________________________\n",
      "Layer (type)                 Output Shape              Param #   \n",
      "=================================================================\n",
      "dense (Dense)                (None, 12)                60        \n",
      "_________________________________________________________________\n",
      "dense_1 (Dense)              (None, 10)                130       \n",
      "_________________________________________________________________\n",
      "dense_2 (Dense)              (None, 8)                 88        \n",
      "_________________________________________________________________\n",
      "dense_3 (Dense)              (None, 6)                 54        \n",
      "_________________________________________________________________\n",
      "dense_4 (Dense)              (None, 4)                 28        \n",
      "_________________________________________________________________\n",
      "dense_5 (Dense)              (None, 2)                 10        \n",
      "_________________________________________________________________\n",
      "dense_6 (Dense)              (None, 1)                 3         \n",
      "=================================================================\n",
      "Total params: 373\n",
      "Trainable params: 373\n",
      "Non-trainable params: 0\n",
      "_________________________________________________________________\n"
     ]
    }
   ],
   "source": [
    "model.summary()"
   ]
  },
  {
   "cell_type": "code",
   "execution_count": 48,
   "metadata": {},
   "outputs": [
    {
     "data": {
      "text/plain": [
       "{'loss': [0.611649215221405,\n",
       "  0.5964299440383911,\n",
       "  0.5910674929618835,\n",
       "  0.5852375030517578,\n",
       "  0.5767319202423096,\n",
       "  0.5648899674415588,\n",
       "  0.550603985786438,\n",
       "  0.5383069515228271,\n",
       "  0.5280113220214844,\n",
       "  0.5178349614143372,\n",
       "  0.5118973851203918,\n",
       "  0.5046512484550476,\n",
       "  0.49865996837615967,\n",
       "  0.49389150738716125,\n",
       "  0.4891650080680847,\n",
       "  0.4873579442501068,\n",
       "  0.48278287053108215,\n",
       "  0.48096656799316406,\n",
       "  0.48127973079681396,\n",
       "  0.47789672017097473,\n",
       "  0.47656816244125366,\n",
       "  0.4761534631252289,\n",
       "  0.4725068509578705,\n",
       "  0.46933701634407043,\n",
       "  0.4706897437572479,\n",
       "  0.46894749999046326,\n",
       "  0.46778276562690735,\n",
       "  0.4672357439994812,\n",
       "  0.46653103828430176,\n",
       "  0.46308550238609314,\n",
       "  0.46375730633735657,\n",
       "  0.4622645378112793,\n",
       "  0.4577510952949524,\n",
       "  0.46116146445274353,\n",
       "  0.45746493339538574,\n",
       "  0.4562970995903015,\n",
       "  0.4588468372821808,\n",
       "  0.4606834650039673,\n",
       "  0.45491504669189453,\n",
       "  0.4560481309890747,\n",
       "  0.45107510685920715,\n",
       "  0.4512249529361725,\n",
       "  0.45197567343711853,\n",
       "  0.4497368633747101,\n",
       "  0.448682963848114,\n",
       "  0.4495074450969696,\n",
       "  0.4479326605796814,\n",
       "  0.44548147916793823,\n",
       "  0.4496265649795532,\n",
       "  0.4447784423828125,\n",
       "  0.445955753326416,\n",
       "  0.44963011145591736,\n",
       "  0.4414122700691223,\n",
       "  0.4439050257205963,\n",
       "  0.44558319449424744,\n",
       "  0.4388796091079712,\n",
       "  0.44118186831474304,\n",
       "  0.4437999129295349,\n",
       "  0.4390646815299988,\n",
       "  0.43807265162467957,\n",
       "  0.45477330684661865,\n",
       "  0.43984463810920715,\n",
       "  0.44256433844566345,\n",
       "  0.4339207410812378,\n",
       "  0.43873563408851624,\n",
       "  0.4315279424190521,\n",
       "  0.43487611413002014,\n",
       "  0.43405720591545105,\n",
       "  0.4363643527030945,\n",
       "  0.43272027373313904,\n",
       "  0.42912557721138,\n",
       "  0.43440815806388855,\n",
       "  0.4272157847881317,\n",
       "  0.4299050271511078,\n",
       "  0.4297843873500824,\n",
       "  0.42903831601142883,\n",
       "  0.43538960814476013,\n",
       "  0.43057626485824585,\n",
       "  0.4330724775791168,\n",
       "  0.4255155920982361,\n",
       "  0.43178433179855347,\n",
       "  0.4333447813987732,\n",
       "  0.424767404794693,\n",
       "  0.42643555998802185,\n",
       "  0.42861220240592957,\n",
       "  0.42994311451911926,\n",
       "  0.4327724874019623,\n",
       "  0.4275493323802948,\n",
       "  0.42856019735336304,\n",
       "  0.42482778429985046,\n",
       "  0.4317264258861542,\n",
       "  0.4309835731983185,\n",
       "  0.42974671721458435,\n",
       "  0.4260055720806122,\n",
       "  0.428984671831131,\n",
       "  0.43383678793907166,\n",
       "  0.4288673400878906,\n",
       "  0.42979711294174194,\n",
       "  0.42250022292137146,\n",
       "  0.4266739785671234,\n",
       "  0.43789252638816833,\n",
       "  0.4253230690956116,\n",
       "  0.42466631531715393,\n",
       "  0.4259945750236511,\n",
       "  0.43656396865844727,\n",
       "  0.42328959703445435,\n",
       "  0.4286474287509918,\n",
       "  0.4259375035762787,\n",
       "  0.4273744523525238,\n",
       "  0.4287620484828949,\n",
       "  0.426611989736557,\n",
       "  0.431727796792984,\n",
       "  0.4247429668903351,\n",
       "  0.42258337140083313,\n",
       "  0.4235658645629883,\n",
       "  0.4305104613304138,\n",
       "  0.4272027909755707,\n",
       "  0.43447059392929077,\n",
       "  0.4263770282268524,\n",
       "  0.42363062500953674,\n",
       "  0.4297778010368347,\n",
       "  0.4338380694389343,\n",
       "  0.4247611165046692,\n",
       "  0.4236411452293396,\n",
       "  0.42730602622032166,\n",
       "  0.42715534567832947,\n",
       "  0.4324268102645874,\n",
       "  0.4246281683444977,\n",
       "  0.429116427898407,\n",
       "  0.4225340187549591],\n",
       " 'binary_accuracy': [0.6552364826202393,\n",
       "  0.6812685132026672,\n",
       "  0.6876554489135742,\n",
       "  0.6938460469245911,\n",
       "  0.6996309161186218,\n",
       "  0.7094599604606628,\n",
       "  0.7245897054672241,\n",
       "  0.7339868545532227,\n",
       "  0.7412768602371216,\n",
       "  0.7498363852500916,\n",
       "  0.7517603039741516,\n",
       "  0.757427453994751,\n",
       "  0.7605685591697693,\n",
       "  0.7629243731498718,\n",
       "  0.7658560872077942,\n",
       "  0.765293300151825,\n",
       "  0.7686176300048828,\n",
       "  0.76856529712677,\n",
       "  0.7675706148147583,\n",
       "  0.7697170376777649,\n",
       "  0.7688924670219421,\n",
       "  0.7702798247337341,\n",
       "  0.7744548916816711,\n",
       "  0.775816023349762,\n",
       "  0.7745596170425415,\n",
       "  0.7770986557006836,\n",
       "  0.7767714858055115,\n",
       "  0.7777268886566162,\n",
       "  0.7780410051345825,\n",
       "  0.7808811068534851,\n",
       "  0.781339168548584,\n",
       "  0.7822552919387817,\n",
       "  0.784820556640625,\n",
       "  0.7831191420555115,\n",
       "  0.7861031889915466,\n",
       "  0.7854226231575012,\n",
       "  0.7847027778625488,\n",
       "  0.7829096913337708,\n",
       "  0.7864434719085693,\n",
       "  0.7847943902015686,\n",
       "  0.7881579995155334,\n",
       "  0.7879224419593811,\n",
       "  0.7863911390304565,\n",
       "  0.7887207865715027,\n",
       "  0.7886030077934265,\n",
       "  0.788171112537384,\n",
       "  0.7895060777664185,\n",
       "  0.7921367287635803,\n",
       "  0.7895976901054382,\n",
       "  0.7923330664634705,\n",
       "  0.7921367287635803,\n",
       "  0.7896761894226074,\n",
       "  0.7952909469604492,\n",
       "  0.7933015823364258,\n",
       "  0.7917702794075012,\n",
       "  0.7970970869064331,\n",
       "  0.7950553894042969,\n",
       "  0.7932623028755188,\n",
       "  0.7964034080505371,\n",
       "  0.7985367774963379,\n",
       "  0.7865481972694397,\n",
       "  0.796691358089447,\n",
       "  0.7943224310874939,\n",
       "  0.800827145576477,\n",
       "  0.7974504828453064,\n",
       "  0.8014946579933167,\n",
       "  0.7990471720695496,\n",
       "  0.8016909956932068,\n",
       "  0.7996754050254822,\n",
       "  0.8007355332374573,\n",
       "  0.8036018013954163,\n",
       "  0.7998194098472595,\n",
       "  0.8041515350341797,\n",
       "  0.8027248978614807,\n",
       "  0.8028557896614075,\n",
       "  0.8040991425514221,\n",
       "  0.7991257309913635,\n",
       "  0.8021883368492126,\n",
       "  0.8008402585983276,\n",
       "  0.8056173324584961,\n",
       "  0.8016647696495056,\n",
       "  0.7997539639472961,\n",
       "  0.8064942359924316,\n",
       "  0.8046226501464844,\n",
       "  0.8036410808563232,\n",
       "  0.8027903437614441,\n",
       "  0.8021359443664551,\n",
       "  0.8040991425514221,\n",
       "  0.8030128479003906,\n",
       "  0.8073449730873108,\n",
       "  0.8011935949325562,\n",
       "  0.8013375997543335,\n",
       "  0.8024370074272156,\n",
       "  0.8049891591072083,\n",
       "  0.8031306266784668,\n",
       "  0.800421416759491,\n",
       "  0.8025940656661987,\n",
       "  0.8019134402275085,\n",
       "  0.8071617484092712,\n",
       "  0.8034840226173401,\n",
       "  0.7964165210723877,\n",
       "  0.8060623407363892,\n",
       "  0.8062848448753357,\n",
       "  0.8047797083854675,\n",
       "  0.7994660139083862,\n",
       "  0.8068999648094177,\n",
       "  0.80377197265625,\n",
       "  0.8055126667022705,\n",
       "  0.8044918179512024,\n",
       "  0.8037588596343994,\n",
       "  0.8058922290802002,\n",
       "  0.8014030456542969,\n",
       "  0.8071355819702148,\n",
       "  0.8068999648094177,\n",
       "  0.8071879148483276,\n",
       "  0.8020836114883423,\n",
       "  0.8041515350341797,\n",
       "  0.7996230721473694,\n",
       "  0.8046880960464478,\n",
       "  0.8062455654144287,\n",
       "  0.8038243055343628,\n",
       "  0.7999240756034851,\n",
       "  0.8056697249412537,\n",
       "  0.807174801826477,\n",
       "  0.8050546050071716,\n",
       "  0.8045703172683716,\n",
       "  0.8012459874153137,\n",
       "  0.8062586784362793,\n",
       "  0.8029474020004272,\n",
       "  0.8073188066482544],\n",
       " 'val_loss': [0.6005048155784607,\n",
       "  0.5941503643989563,\n",
       "  0.589182436466217,\n",
       "  0.5838298201560974,\n",
       "  0.5719271898269653,\n",
       "  0.5576655864715576,\n",
       "  0.5435792803764343,\n",
       "  0.5302876830101013,\n",
       "  0.5195478200912476,\n",
       "  0.514326274394989,\n",
       "  0.5048374533653259,\n",
       "  0.5005446076393127,\n",
       "  0.49451667070388794,\n",
       "  0.4868208169937134,\n",
       "  0.4906015396118164,\n",
       "  0.484782338142395,\n",
       "  0.48362910747528076,\n",
       "  0.47595497965812683,\n",
       "  0.48186755180358887,\n",
       "  0.4708840847015381,\n",
       "  0.474626749753952,\n",
       "  0.46897193789482117,\n",
       "  0.46755656599998474,\n",
       "  0.46637648344039917,\n",
       "  0.465766578912735,\n",
       "  0.4627586603164673,\n",
       "  0.46900293231010437,\n",
       "  0.47868144512176514,\n",
       "  0.4600520431995392,\n",
       "  0.45461538434028625,\n",
       "  0.47866788506507874,\n",
       "  0.4720233678817749,\n",
       "  0.45215871930122375,\n",
       "  0.4571159780025482,\n",
       "  0.45791515707969666,\n",
       "  0.4547376334667206,\n",
       "  0.44874292612075806,\n",
       "  0.45865944027900696,\n",
       "  0.45724165439605713,\n",
       "  0.4599311053752899,\n",
       "  0.45794641971588135,\n",
       "  0.44792625308036804,\n",
       "  0.45472583174705505,\n",
       "  0.45356059074401855,\n",
       "  0.4547567367553711,\n",
       "  0.44911834597587585,\n",
       "  0.45130524039268494,\n",
       "  0.47266584634780884,\n",
       "  0.4355301260948181,\n",
       "  0.44447851181030273,\n",
       "  0.4354282319545746,\n",
       "  0.44492048025131226,\n",
       "  0.4397211968898773,\n",
       "  0.4435305595397949,\n",
       "  0.4392135441303253,\n",
       "  0.46602025628089905,\n",
       "  0.43399578332901,\n",
       "  0.46798357367515564,\n",
       "  0.45035025477409363,\n",
       "  0.4583496153354645,\n",
       "  0.4533846974372864,\n",
       "  0.4496399760246277,\n",
       "  0.4423508048057556,\n",
       "  0.4822181761264801,\n",
       "  0.43030110001564026,\n",
       "  0.4255550503730774,\n",
       "  0.43385016918182373,\n",
       "  0.4585488438606262,\n",
       "  0.43596574664115906,\n",
       "  0.4536675810813904,\n",
       "  0.4312354624271393,\n",
       "  0.42017605900764465,\n",
       "  0.43505996465682983,\n",
       "  0.4415486454963684,\n",
       "  0.4337536096572876,\n",
       "  0.4213590919971466,\n",
       "  0.42326927185058594,\n",
       "  0.4339759051799774,\n",
       "  0.4175170063972473,\n",
       "  0.44372859597206116,\n",
       "  0.4282027781009674,\n",
       "  0.4329095780849457,\n",
       "  0.42649415135383606,\n",
       "  0.41795602440834045,\n",
       "  0.42283421754837036,\n",
       "  0.4254834055900574,\n",
       "  0.44434699416160583,\n",
       "  0.4229212999343872,\n",
       "  0.4332325756549835,\n",
       "  0.44639986753463745,\n",
       "  0.4165427088737488,\n",
       "  0.4319031834602356,\n",
       "  0.4185717701911926,\n",
       "  0.4842202961444855,\n",
       "  0.44181087613105774,\n",
       "  0.43919625878334045,\n",
       "  0.4264332056045532,\n",
       "  0.42517298460006714,\n",
       "  0.4866097867488861,\n",
       "  0.42532190680503845,\n",
       "  0.42705926299095154,\n",
       "  0.42135632038116455,\n",
       "  0.44202354550361633,\n",
       "  0.4603465795516968,\n",
       "  0.44098058342933655,\n",
       "  0.42425036430358887,\n",
       "  0.44244185090065,\n",
       "  0.4264983534812927,\n",
       "  0.4431147575378418,\n",
       "  0.4207414388656616,\n",
       "  0.484971821308136,\n",
       "  0.4225924611091614,\n",
       "  0.4291455149650574,\n",
       "  0.4179047644138336,\n",
       "  0.43010199069976807,\n",
       "  0.4428807199001312,\n",
       "  0.43007099628448486,\n",
       "  0.4125933349132538,\n",
       "  0.4312472343444824,\n",
       "  0.4188656210899353,\n",
       "  0.47736114263534546,\n",
       "  0.4363655149936676,\n",
       "  0.4597650468349457,\n",
       "  0.4173370599746704,\n",
       "  0.42430445551872253,\n",
       "  0.427957683801651,\n",
       "  0.43069759011268616,\n",
       "  0.4240422546863556,\n",
       "  0.4319207966327667,\n",
       "  0.42950981855392456],\n",
       " 'val_binary_accuracy': [0.6746472716331482,\n",
       "  0.6879618763923645,\n",
       "  0.6895498633384705,\n",
       "  0.6884505152702332,\n",
       "  0.7024980187416077,\n",
       "  0.7208819389343262,\n",
       "  0.7312648892402649,\n",
       "  0.7428082823753357,\n",
       "  0.7505038976669312,\n",
       "  0.7503206729888916,\n",
       "  0.7602760791778564,\n",
       "  0.7576497793197632,\n",
       "  0.7651621699333191,\n",
       "  0.7672387361526489,\n",
       "  0.7609478831291199,\n",
       "  0.7731631398200989,\n",
       "  0.7698039412498474,\n",
       "  0.7716972827911377,\n",
       "  0.7693763971328735,\n",
       "  0.773529589176178,\n",
       "  0.7759726643562317,\n",
       "  0.7707811594009399,\n",
       "  0.7787821292877197,\n",
       "  0.7815305590629578,\n",
       "  0.7823856472969055,\n",
       "  0.7787210941314697,\n",
       "  0.7738349437713623,\n",
       "  0.766383707523346,\n",
       "  0.7793928980827332,\n",
       "  0.7884321808815002,\n",
       "  0.7733463644981384,\n",
       "  0.784950852394104,\n",
       "  0.789287269115448,\n",
       "  0.7856837511062622,\n",
       "  0.7770109176635742,\n",
       "  0.7898369431495667,\n",
       "  0.7919746041297913,\n",
       "  0.784950852394104,\n",
       "  0.7855005264282227,\n",
       "  0.7825688719749451,\n",
       "  0.7790875434875488,\n",
       "  0.7914249300956726,\n",
       "  0.7855616211891174,\n",
       "  0.7864777445793152,\n",
       "  0.7864777445793152,\n",
       "  0.7881878614425659,\n",
       "  0.7880657315254211,\n",
       "  0.7739571332931519,\n",
       "  0.8004031181335449,\n",
       "  0.7850729823112488,\n",
       "  0.8030904531478882,\n",
       "  0.7958834767341614,\n",
       "  0.8008916974067688,\n",
       "  0.7926464080810547,\n",
       "  0.7975935935974121,\n",
       "  0.7853783965110779,\n",
       "  0.7996091246604919,\n",
       "  0.775484025478363,\n",
       "  0.7883100509643555,\n",
       "  0.7738349437713623,\n",
       "  0.7811030149459839,\n",
       "  0.7916691899299622,\n",
       "  0.7939901351928711,\n",
       "  0.7821413278579712,\n",
       "  0.7983875870704651,\n",
       "  0.805105984210968,\n",
       "  0.7967385053634644,\n",
       "  0.7908751964569092,\n",
       "  0.8055945634841919,\n",
       "  0.7815916538238525,\n",
       "  0.8030293583869934,\n",
       "  0.8137177228927612,\n",
       "  0.7992426753044128,\n",
       "  0.7867830991744995,\n",
       "  0.7936236262321472,\n",
       "  0.8111525177955627,\n",
       "  0.8076100945472717,\n",
       "  0.803151547908783,\n",
       "  0.8118243217468262,\n",
       "  0.7947230339050293,\n",
       "  0.8038233518600464,\n",
       "  0.8019911050796509,\n",
       "  0.8032736778259277,\n",
       "  0.8048616647720337,\n",
       "  0.8060221076011658,\n",
       "  0.7987540364265442,\n",
       "  0.7928296327590942,\n",
       "  0.8091369867324829,\n",
       "  0.8036401271820068,\n",
       "  0.7889207601547241,\n",
       "  0.810297429561615,\n",
       "  0.7966163754463196,\n",
       "  0.8131069540977478,\n",
       "  0.7759115695953369,\n",
       "  0.7914859652519226,\n",
       "  0.7974103689193726,\n",
       "  0.8069993257522583,\n",
       "  0.805899977684021,\n",
       "  0.7698650360107422,\n",
       "  0.806755006313324,\n",
       "  0.8082818984985352,\n",
       "  0.8076100945472717,\n",
       "  0.7895926237106323,\n",
       "  0.787699282169342,\n",
       "  0.7847676277160645,\n",
       "  0.8049837946891785,\n",
       "  0.7864166498184204,\n",
       "  0.8066328763961792,\n",
       "  0.79643315076828,\n",
       "  0.8118243217468262,\n",
       "  0.7701093554496765,\n",
       "  0.8088926672935486,\n",
       "  0.7966774702072144,\n",
       "  0.8093202114105225,\n",
       "  0.8107860684394836,\n",
       "  0.7912417054176331,\n",
       "  0.7993037104606628,\n",
       "  0.81817626953125,\n",
       "  0.8021132349967957,\n",
       "  0.8107860684394836,\n",
       "  0.768399178981781,\n",
       "  0.7920356392860413,\n",
       "  0.7782935500144958,\n",
       "  0.8136566281318665,\n",
       "  0.8122518658638,\n",
       "  0.8069382309913635,\n",
       "  0.8028461337089539,\n",
       "  0.8048616647720337,\n",
       "  0.7986319065093994,\n",
       "  0.8026018738746643]}"
      ]
     },
     "execution_count": 48,
     "metadata": {},
     "output_type": "execute_result"
    }
   ],
   "source": [
    "history.history\n"
   ]
  },
  {
   "cell_type": "code",
   "execution_count": null,
   "metadata": {},
   "outputs": [],
   "source": []
  },
  {
   "cell_type": "code",
   "execution_count": 50,
   "metadata": {},
   "outputs": [],
   "source": [
    "### plot the loss function\n",
    "import matplotlib.pyplot as plt\n",
    "%matplotlib inline"
   ]
  },
  {
   "cell_type": "code",
   "execution_count": 51,
   "metadata": {},
   "outputs": [
    {
     "name": "stdout",
     "output_type": "stream",
     "text": [
      "dict_keys(['loss', 'binary_accuracy', 'val_loss', 'val_binary_accuracy'])\n"
     ]
    }
   ],
   "source": [
    "print(history.history.keys())\n"
   ]
  },
  {
   "cell_type": "code",
   "execution_count": 52,
   "metadata": {},
   "outputs": [
    {
     "name": "stdout",
     "output_type": "stream",
     "text": [
      "Test Score:  0.4029824137687683\n",
      "Test Accuracy:  0.8255053758621216\n"
     ]
    }
   ],
   "source": [
    "score = model.evaluate(X_test, y_test, verbose =0)\n",
    "print(\"Test Score: \", score[0])\n",
    "print(\"Test Accuracy: \", score[1])"
   ]
  },
  {
   "cell_type": "code",
   "execution_count": 53,
   "metadata": {},
   "outputs": [
    {
     "name": "stdout",
     "output_type": "stream",
     "text": [
      "Training Score:  0.40573352575302124\n",
      "Validation Accuracy:  0.8215323686599731\n"
     ]
    }
   ],
   "source": [
    "score = model.evaluate(X_train, y_train, verbose =0)\n",
    "print(\"Training Score: \", score[0])\n",
    "print(\"Validation Accuracy: \", score[1])\n"
   ]
  },
  {
   "cell_type": "code",
   "execution_count": null,
   "metadata": {},
   "outputs": [],
   "source": []
  },
  {
   "cell_type": "code",
   "execution_count": null,
   "metadata": {},
   "outputs": [],
   "source": []
  },
  {
   "cell_type": "code",
   "execution_count": 54,
   "metadata": {},
   "outputs": [
    {
     "data": {
      "text/plain": [
       "Text(0.5, 0, 'Epoch')"
      ]
     },
     "execution_count": 54,
     "metadata": {},
     "output_type": "execute_result"
    },
    {
     "data": {
      "image/png": "[encoded data removed]",
      "text/plain": [
       "<Figure size 432x288 with 1 Axes>"
      ]
     },
     "metadata": {
      "needs_background": "light"
     },
     "output_type": "display_data"
    }
   ],
   "source": [
    "plt.plot(range(130), history.history['val_loss'])\n",
    "plt.ylabel('val_loss')\n",
    "plt.xlabel('Epoch')"
   ]
  },
  {
   "cell_type": "code",
   "execution_count": 55,
   "metadata": {},
   "outputs": [
    {
     "data": {
      "text/plain": [
       "Text(0.5, 0, 'Epoch')"
      ]
     },
     "execution_count": 55,
     "metadata": {},
     "output_type": "execute_result"
    },
    {
     "data": {
      "image/png": "[encoded data removed]",
      "text/plain": [
       "<Figure size 432x288 with 1 Axes>"
      ]
     },
     "metadata": {
      "needs_background": "light"
     },
     "output_type": "display_data"
    }
   ],
   "source": [
    "plt.plot(range(130), history.history['loss'])\n",
    "plt.ylabel('loss')\n",
    "plt.xlabel('Epoch')"
   ]
  },
  {
   "cell_type": "code",
   "execution_count": null,
   "metadata": {},
   "outputs": [],
   "source": []
  },
  {
   "cell_type": "code",
   "execution_count": 56,
   "metadata": {},
   "outputs": [
    {
     "data": {
      "text/plain": [
       "<matplotlib.legend.Legend at 0x7fdcd7f074f0>"
      ]
     },
     "execution_count": 56,
     "metadata": {},
     "output_type": "execute_result"
    },
    {
     "data": {
      "image/png": "[encoded data removed]",
      "text/plain": [
       "<Figure size 432x288 with 1 Axes>"
      ]
     },
     "metadata": {
      "needs_background": "light"
     },
     "output_type": "display_data"
    }
   ],
   "source": [
    "plt.plot(history.history['loss'], label='Training loss')\n",
    "plt.plot(history.history['val_loss'], label='Validation loss')\n",
    "plt.legend(frameon=False)\n",
    "\n",
    "\n"
   ]
  },
  {
   "cell_type": "code",
   "execution_count": 57,
   "metadata": {},
   "outputs": [],
   "source": [
    "from sklearn.metrics import classification_report,confusion_matrix,accuracy_score"
   ]
  },
  {
   "cell_type": "code",
   "execution_count": 63,
   "metadata": {},
   "outputs": [
    {
     "data": {
      "text/plain": [
       "array([[1],\n",
       "       [1],\n",
       "       [0],\n",
       "       ...,\n",
       "       [1],\n",
       "       [0],\n",
       "       [1]], dtype=int32)"
      ]
     },
     "execution_count": 63,
     "metadata": {},
     "output_type": "execute_result"
    }
   ],
   "source": [
    "predictions = model.predict_classes(X_test)\n",
    "predictions\n",
    "# accuracy_score(y_test, predictions)\n",
    "# accuracy_score\n",
    "\n"
   ]
  },
  {
   "cell_type": "raw",
   "metadata": {},
   "source": [
    "Computes the precision of the predictions with respect to the labels."
   ]
  },
  {
   "cell_type": "code",
   "execution_count": 59,
   "metadata": {},
   "outputs": [
    {
     "data": {
      "text/plain": [
       "0.8690252"
      ]
     },
     "execution_count": 59,
     "metadata": {},
     "output_type": "execute_result"
    }
   ],
   "source": [
    "precision = tf.keras.metrics.Precision()\n",
    "precision.update_state(y_test,predictions)\n",
    "precision = precision.result().numpy()\n",
    "precision"
   ]
  },
  {
   "cell_type": "raw",
   "metadata": {},
   "source": [
    "Computes the recall of the predictions with respect to the labels."
   ]
  },
  {
   "cell_type": "code",
   "execution_count": 60,
   "metadata": {},
   "outputs": [
    {
     "data": {
      "text/plain": [
       "0.8503501"
      ]
     },
     "execution_count": 60,
     "metadata": {},
     "output_type": "execute_result"
    }
   ],
   "source": [
    "Recall = tf.keras.metrics.Recall()\n",
    "Recall.update_state(y_test,predictions)\n",
    "Recall.result().numpy()\n"
   ]
  },
  {
   "cell_type": "code",
   "execution_count": 61,
   "metadata": {},
   "outputs": [
    {
     "data": {
      "text/plain": [
       "0.8503501"
      ]
     },
     "execution_count": 61,
     "metadata": {},
     "output_type": "execute_result"
    }
   ],
   "source": [
    "SensitivityAtSpecificity = tf.keras.metrics.SensitivityAtSpecificity(0.5)\n",
    "SensitivityAtSpecificity.update_state(y_test, predictions)\n",
    "SensitivityAtSpecificity.result().numpy()"
   ]
  },
  {
   "cell_type": "code",
   "execution_count": 62,
   "metadata": {},
   "outputs": [
    {
     "data": {
      "text/plain": [
       "0.7835441"
      ]
     },
     "execution_count": 62,
     "metadata": {},
     "output_type": "execute_result"
    }
   ],
   "source": [
    "SpecificityAtSensitivity = tf.keras.metrics.SpecificityAtSensitivity(0.5)\n",
    "SpecificityAtSensitivity.update_state(y_test, predictions)\n",
    "SpecificityAtSensitivity.result().numpy()\n"
   ]
  },
  {
   "cell_type": "code",
   "execution_count": 64,
   "metadata": {},
   "outputs": [],
   "source": [
    "from keras.models import model_from_yaml\n"
   ]
  },
  {
   "cell_type": "code",
   "execution_count": 65,
   "metadata": {},
   "outputs": [],
   "source": [
    "model.save(\"model.h5\")\n"
   ]
  },
  {
   "cell_type": "code",
   "execution_count": null,
   "metadata": {},
   "outputs": [],
   "source": []
  },
  {
   "cell_type": "code",
   "execution_count": null,
   "metadata": {},
   "outputs": [],
   "source": []
  },
  {
   "cell_type": "code",
   "execution_count": null,
   "metadata": {},
   "outputs": [],
   "source": []
  },
  {
   "cell_type": "code",
   "execution_count": null,
   "metadata": {},
   "outputs": [],
   "source": [
    "import pickle\n",
    "import tempfile\n",
    "from tensorflow.keras.models import Sequential, load_model, save_model, Model"
   ]
  },
  {
   "cell_type": "code",
   "execution_count": null,
   "metadata": {},
   "outputs": [],
   "source": [
    "# Hotfix function\n",
    "def make_keras_picklable():\n",
    "    def __getstate__(self):\n",
    "        model_str = \"\"\n",
    "        with tempfile.NamedTemporaryFile(suffix='.hdf5', delete=True) as fd:\n",
    "            save_model(self, fd.name, overwrite=True)\n",
    "            model_str = fd.read()\n",
    "        d = {'model_str': model_str}\n",
    "        return d\n",
    "\n",
    "    def __setstate__(self, state):\n",
    "        with tempfile.NamedTemporaryFile(suffix='.hdf5', delete=True) as fd:\n",
    "            fd.write(state['model_str'])\n",
    "            fd.flush()\n",
    "            model = load_model(fd.name)\n",
    "        self.__dict__ = model.__dict__\n",
    "\n",
    "\n",
    "    cls = Model\n",
    "    cls.__getstate__ = __getstate__\n",
    "    cls.__setstate__ = __setstate__"
   ]
  },
  {
   "cell_type": "code",
   "execution_count": null,
   "metadata": {},
   "outputs": [],
   "source": [
    "make_keras_picklable()"
   ]
  },
  {
   "cell_type": "code",
   "execution_count": 35,
   "metadata": {},
   "outputs": [
    {
     "ename": "NameError",
     "evalue": "name 'pickle' is not defined",
     "output_type": "error",
     "traceback": [
      "\u001b[0;31m---------------------------------------------------------------------------\u001b[0m",
      "\u001b[0;31mNameError\u001b[0m                                 Traceback (most recent call last)",
      "\u001b[0;32m<ipython-input-35-c48b90b53560>\u001b[0m in \u001b[0;36m<module>\u001b[0;34m\u001b[0m\n\u001b[1;32m      1\u001b[0m \u001b[0;32mwith\u001b[0m \u001b[0mopen\u001b[0m\u001b[0;34m(\u001b[0m\u001b[0;34m'model.pkl'\u001b[0m\u001b[0;34m,\u001b[0m \u001b[0;34m'wb'\u001b[0m\u001b[0;34m)\u001b[0m \u001b[0;32mas\u001b[0m \u001b[0mf\u001b[0m\u001b[0;34m:\u001b[0m\u001b[0;34m\u001b[0m\u001b[0;34m\u001b[0m\u001b[0m\n\u001b[0;32m----> 2\u001b[0;31m     \u001b[0mpickle\u001b[0m\u001b[0;34m.\u001b[0m\u001b[0mdump\u001b[0m\u001b[0;34m(\u001b[0m\u001b[0mmodel\u001b[0m\u001b[0;34m,\u001b[0m \u001b[0mf\u001b[0m\u001b[0;34m)\u001b[0m\u001b[0;34m\u001b[0m\u001b[0;34m\u001b[0m\u001b[0m\n\u001b[0m",
      "\u001b[0;31mNameError\u001b[0m: name 'pickle' is not defined"
     ]
    }
   ],
   "source": [
    "with open('model.pkl', 'wb') as f:\n",
    "    pickle.dump(model, f)"
   ]
  },
  {
   "cell_type": "code",
   "execution_count": null,
   "metadata": {},
   "outputs": [],
   "source": []
  },
  {
   "cell_type": "code",
   "execution_count": null,
   "metadata": {},
   "outputs": [],
   "source": []
  },
  {
   "cell_type": "code",
   "execution_count": null,
   "metadata": {},
   "outputs": [],
   "source": [
    "from sklearn.metrics import classification_report,confusion_matrix,accuracy_score"
   ]
  },
  {
   "cell_type": "code",
   "execution_count": null,
   "metadata": {},
   "outputs": [],
   "source": [
    "predictions = model.predict_classes(X_test)\n",
    "predictions\n",
    "accuracy_score(y_test, predictions)\n"
   ]
  },
  {
   "cell_type": "code",
   "execution_count": null,
   "metadata": {},
   "outputs": [],
   "source": [
    "confusion_matrix(y_test,predictions)"
   ]
  },
  {
   "cell_type": "code",
   "execution_count": null,
   "metadata": {},
   "outputs": [],
   "source": [
    "print(classification_report(y_test,predictions))"
   ]
  },
  {
   "cell_type": "code",
   "execution_count": null,
   "metadata": {},
   "outputs": [],
   "source": [
    "from sklearn.metrics import classification_report,confusion_matrix,accuracy_score,precision_score, recall_score"
   ]
  },
  {
   "cell_type": "code",
   "execution_count": null,
   "metadata": {},
   "outputs": [],
   "source": [
    "precision_score(y_test, predictions)"
   ]
  },
  {
   "cell_type": "code",
   "execution_count": null,
   "metadata": {},
   "outputs": [],
   "source": [
    "recall_score(y_test, predictions)"
   ]
  },
  {
   "cell_type": "code",
   "execution_count": null,
   "metadata": {},
   "outputs": [],
   "source": [
    "b = data['BaselineRNAlog']\n",
    "a = []\n",
    "a.append(b)\n",
    "a"
   ]
  },
  {
   "cell_type": "code",
   "execution_count": null,
   "metadata": {},
   "outputs": [],
   "source": [
    "ones = []\n",
    "zeros = []\n",
    "for i in b:\n",
    "    if i == 1:\n",
    "        ones.append(i)\n",
    "    else:\n",
    "        zeros.append(i)\n",
    "print(\"ones...\", len(ones))\n",
    "print(\"zeros... \",  len(zeros))"
   ]
  },
  {
   "cell_type": "code",
   "execution_count": null,
   "metadata": {},
   "outputs": [],
   "source": [
    "round(len(ones)/len(b),2)"
   ]
  },
  {
   "cell_type": "code",
   "execution_count": null,
   "metadata": {},
   "outputs": [],
   "source": [
    "round(len(zeros)/len(b),2)"
   ]
  },
  {
   "cell_type": "code",
   "execution_count": null,
   "metadata": {},
   "outputs": [],
   "source": []
  },
  {
   "cell_type": "code",
   "execution_count": null,
   "metadata": {},
   "outputs": [],
   "source": []
  },
  {
   "cell_type": "code",
   "execution_count": null,
   "metadata": {},
   "outputs": [],
   "source": []
  },
  {
   "cell_type": "code",
   "execution_count": null,
   "metadata": {},
   "outputs": [],
   "source": []
  }
 ],
 "metadata": {
  "kernelspec": {
   "display_name": "Python 3",
   "language": "python",
   "name": "python3"
  },
  "language_info": {
   "codemirror_mode": {
    "name": "ipython",
    "version": 3
   },
   "file_extension": ".py",
   "mimetype": "text/x-python",
   "name": "python",
   "nbconvert_exporter": "python",
   "pygments_lexer": "ipython3",
   "version": "3.8.3"
  }
 },
 "nbformat": 4,
 "nbformat_minor": 4
}
